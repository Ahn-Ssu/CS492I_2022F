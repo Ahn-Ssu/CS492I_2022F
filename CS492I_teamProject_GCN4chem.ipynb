{
  "cells": [
    {
      "cell_type": "code",
      "execution_count": null,
      "metadata": {
        "colab": {
          "base_uri": "https://localhost:8080/",
          "height": 955
        },
        "id": "xkxbdYb-Lmpa",
        "outputId": "141938ff-c335-44b4-bc81-1429c4bfa8b5"
      },
      "outputs": [
        {
          "output_type": "stream",
          "name": "stdout",
          "text": [
            "Looking in indexes: https://pypi.org/simple, https://us-python.pkg.dev/colab-wheels/public/simple/\n",
            "Collecting rdkit\n",
            "  Downloading rdkit-2022.9.2-cp38-cp38-manylinux_2_17_x86_64.manylinux2014_x86_64.whl (29.3 MB)\n",
            "\u001b[K     |████████████████████████████████| 29.3 MB 1.2 MB/s \n",
            "\u001b[?25hRequirement already satisfied: Pillow in /usr/local/lib/python3.8/dist-packages (from rdkit) (7.1.2)\n",
            "Requirement already satisfied: numpy in /usr/local/lib/python3.8/dist-packages (from rdkit) (1.21.6)\n",
            "Installing collected packages: rdkit\n",
            "Successfully installed rdkit-2022.9.2\n",
            "Looking in indexes: https://pypi.org/simple, https://us-python.pkg.dev/colab-wheels/public/simple/\n",
            "Collecting git+https://github.com/lmmentel/mendeleev.git@v0.11.0\n",
            "  Cloning https://github.com/lmmentel/mendeleev.git (to revision v0.11.0) to /tmp/pip-req-build-z93vkyfi\n",
            "  Running command git clone -q https://github.com/lmmentel/mendeleev.git /tmp/pip-req-build-z93vkyfi\n",
            "  Running command git checkout -q 9a77d402b82e34a7fdce204509314d8989ceefff\n",
            "  Installing build dependencies ... \u001b[?25l\u001b[?25hdone\n",
            "  Getting requirements to build wheel ... \u001b[?25l\u001b[?25hdone\n",
            "    Preparing wheel metadata ... \u001b[?25l\u001b[?25hdone\n",
            "Requirement already satisfied: pandas>=0.25.0 in /usr/local/lib/python3.8/dist-packages (from mendeleev==0.11.0) (1.3.5)\n",
            "Collecting colorama<0.5.0,>=0.4.4\n",
            "  Downloading colorama-0.4.6-py2.py3-none-any.whl (25 kB)\n",
            "Collecting pyfiglet<0.9,>=0.8.post1\n",
            "  Downloading pyfiglet-0.8.post1-py2.py3-none-any.whl (865 kB)\n",
            "\u001b[K     |████████████████████████████████| 865 kB 5.2 MB/s \n",
            "\u001b[?25hRequirement already satisfied: six<2.0.0,>=1.15.0 in /usr/local/lib/python3.8/dist-packages (from mendeleev==0.11.0) (1.15.0)\n",
            "Requirement already satisfied: numpy<2.0,>=1.21 in /usr/local/lib/python3.8/dist-packages (from mendeleev==0.11.0) (1.21.6)\n",
            "Collecting Pygments<3.0.0,>=2.8.0\n",
            "  Downloading Pygments-2.13.0-py3-none-any.whl (1.1 MB)\n",
            "\u001b[K     |████████████████████████████████| 1.1 MB 28.1 MB/s \n",
            "\u001b[?25hRequirement already satisfied: SQLAlchemy<2.0.0,>=1.4.0 in /usr/local/lib/python3.8/dist-packages (from mendeleev==0.11.0) (1.4.44)\n",
            "Requirement already satisfied: python-dateutil>=2.7.3 in /usr/local/lib/python3.8/dist-packages (from pandas>=0.25.0->mendeleev==0.11.0) (2.8.2)\n",
            "Requirement already satisfied: pytz>=2017.3 in /usr/local/lib/python3.8/dist-packages (from pandas>=0.25.0->mendeleev==0.11.0) (2022.6)\n",
            "Requirement already satisfied: greenlet!=0.4.17 in /usr/local/lib/python3.8/dist-packages (from SQLAlchemy<2.0.0,>=1.4.0->mendeleev==0.11.0) (2.0.1)\n",
            "Building wheels for collected packages: mendeleev\n",
            "  Building wheel for mendeleev (PEP 517) ... \u001b[?25l\u001b[?25hdone\n",
            "  Created wheel for mendeleev: filename=mendeleev-0.11.0-py3-none-any.whl size=296444 sha256=62206fdd0b941ac6a8918aa4dc6e3d656c0edb7c0f8b422dd49b98a216ee7e1f\n",
            "  Stored in directory: /tmp/pip-ephem-wheel-cache-mr_0st2w/wheels/26/d8/d3/ed595d434615c075bea9a39eb52b2d458dabb0c62c20aedace\n",
            "Successfully built mendeleev\n",
            "Installing collected packages: Pygments, pyfiglet, colorama, mendeleev\n",
            "  Attempting uninstall: Pygments\n",
            "    Found existing installation: Pygments 2.6.1\n",
            "    Uninstalling Pygments-2.6.1:\n",
            "      Successfully uninstalled Pygments-2.6.1\n",
            "\u001b[31mERROR: pip's dependency resolver does not currently take into account all the packages that are installed. This behaviour is the source of the following dependency conflicts.\n",
            "ipython 7.9.0 requires jedi>=0.10, which is not installed.\u001b[0m\n",
            "Successfully installed Pygments-2.13.0 colorama-0.4.6 mendeleev-0.11.0 pyfiglet-0.8.post1\n"
          ]
        },
        {
          "output_type": "display_data",
          "data": {
            "application/vnd.colab-display-data+json": {
              "pip_warning": {
                "packages": [
                  "pygments"
                ]
              }
            }
          },
          "metadata": {}
        },
        {
          "output_type": "stream",
          "name": "stdout",
          "text": [
            "1.12.1+cu113\n",
            "\u001b[K     |████████████████████████████████| 8.9 MB 14.7 MB/s \n",
            "\u001b[K     |████████████████████████████████| 3.5 MB 16.2 MB/s \n",
            "\u001b[K     |████████████████████████████████| 280 kB 4.1 MB/s \n",
            "\u001b[?25h  Building wheel for torch-geometric (setup.py) ... \u001b[?25l\u001b[?25hdone\n"
          ]
        }
      ],
      "source": [
        "# for getting chemcial properties\n",
        "!pip install rdkit\n",
        "!pip install git+https://github.com/lmmentel/mendeleev.git@v0.11.0\n",
        "\n",
        "# torch_geometric lib\n",
        "import os\n",
        "import torch\n",
        "os.environ['TORCH'] = torch.__version__\n",
        "print(torch.__version__)\n",
        "\n",
        "!pip install -q torch-scatter -f https://data.pyg.org/whl/torch-${TORCH}.html\n",
        "!pip install -q torch-sparse -f https://data.pyg.org/whl/torch-${TORCH}.html\n",
        "!pip install -q git+https://github.com/pyg-team/pytorch_geometric.git\n",
        "\n",
        "os.kill(os.getpid(), 9)"
      ]
    },
    {
      "cell_type": "code",
      "execution_count": null,
      "metadata": {
        "id": "fsM32VkQftjF"
      },
      "outputs": [],
      "source": [
        "from tqdm.notebook import tqdm\n",
        "\n",
        "import numpy as np\n",
        "import pandas as pd\n",
        "\n",
        "import torch\n",
        "import torch.nn as nn\n",
        "import torch.nn.functional as F\n",
        "import torch.optim as optim\n",
        "\n",
        "import torch_geometric as geo\n",
        "import torch_geometric.utils \n",
        "from torch_geometric.data import Data\n",
        "from torch_geometric.loader import DataLoader"
      ]
    },
    {
      "cell_type": "markdown",
      "metadata": {
        "id": "9IYL64iuLpDl"
      },
      "source": [
        "# 1 data load\n",
        "\n",
        "models : GCN, GCN+a, GCN+g, GCN+a+g, GGNN\n",
        "\n",
        "property : logP, TPSA, QED, SAS (ZINC dataset) and pve (CEP dataset)\n",
        "\n",
        "\n",
        "\n",
        "> The node features correspond to atom\n",
        "descriptors including atom type, number of attached hydrogens,\n",
        "number of valencies, and aromaticity indicator. We represent all\n",
        "the descriptors with an one-hot encoded vector.\n",
        "\n"
      ]
    },
    {
      "cell_type": "markdown",
      "metadata": {
        "id": "oHdMHwBYOZ9Z"
      },
      "source": [
        "## 1-1 generating feature matrix via the paper way"
      ]
    },
    {
      "cell_type": "code",
      "execution_count": null,
      "metadata": {
        "id": "sO7GQ-lzkbny"
      },
      "outputs": [],
      "source": [
        "import rdkit\n",
        "from rdkit import Chem \n",
        "from rdkit.Chem.QED import qed\n",
        "from rdkit.Chem.Crippen import MolLogP\n",
        "from rdkit.Chem.rdMolDescriptors import CalcTPSA\n",
        "from rdkit.Contrib.SA_Score.sascorer import calculateScore\n",
        "\n",
        "\n",
        "atomSymbolz = ['Ag', 'Al', 'As', 'Au', 'B', 'Br', 'C', 'Ca', 'Cd', 'Cl', 'Co', 'Cr', 'Cu', 'F', 'Fe', 'Ge', 'H', 'Hg', 'I', 'K', 'Li', 'Mg', 'Mn', 'N', 'Na', 'Ni', 'O', 'P', 'Pb', 'Pd', 'Pt', 'S', 'Sb', 'Se', 'Si', 'Sn', 'Ti', 'Tl', 'V', 'Zn']\n",
        "\n",
        "\n",
        "def make_onehot_features(atom):\n",
        "  ret = []\n",
        "  ret += list(map(lambda r: r == atom.GetSymbol(), atomSymbolz))\n",
        "  ret += list(map(lambda r: r == atom.GetDegree(), (0,1,2,3,4,5)))\n",
        "  ret += list(map(lambda r: r == atom.GetImplicitValence(), (0,1,2,3,4,5)))\n",
        "  ret += [1 if atom.GetIsAromatic() else 0]\n",
        "\n",
        "  return np.array(ret) # (atom X 53)\n",
        "\n",
        "def get_targetProperties(mol):\n",
        "  l       = torch.tensor(MolLogP(mol), dtype=torch.float).view(1,1)\n",
        "  t       = torch.tensor(CalcTPSA(mol), dtype=torch.float).view(1,1)\n",
        "  q       = torch.tensor(qed(mol), dtype=torch.float).view(1,1)\n",
        "  s       = torch.tensor(calculateScore(mol) , dtype=torch.float).view(1,1)\n",
        "\n",
        "  return l, t, q, s\n",
        "\n",
        "# for smiles in tqdm_notebook(SMILES):\n",
        "\n",
        "def molToData(mol):\n",
        "  max_atoms = 55\n",
        "  \n",
        "  adj = Chem.GetAdjacencyMatrix(mol) # return np.ndarray (N x N)\n",
        "  N = adj.shape[0]\n",
        "  self_added_adj = adj + np.eye(N, dtype=np.int32) # self node information\n",
        "\n",
        "  padded_adj = np.zeros((max_atoms, max_atoms))\n",
        "  padded_adj[:N, :N] = self_added_adj\n",
        "\n",
        "  # edge_idx = torch.tensor(adj).to_sparse() !! ERR !! \n",
        "  bonds = []\n",
        "  for i in range(mol.GetNumAtoms()):\n",
        "    for j in range(mol.GetNumAtoms()):\n",
        "      if adj[i,j] == 1:\n",
        "        bonds.append([i,j])\n",
        "\n",
        "  # get feature X  \n",
        "  atomic_f = []\n",
        "  padded_atomic_f = []\n",
        "\n",
        "  pad = np.zeros((max_atoms, 53))\n",
        "  temp_atomic_f = []\n",
        "\n",
        "  for atom in mol.GetAtoms():\n",
        "    onehot_f = make_onehot_features(atom)\n",
        "    temp_atomic_f.append(onehot_f)\n",
        "    atomic_f.append(onehot_f)\n",
        "\n",
        "  pad[:len(temp_atomic_f), :] = temp_atomic_f\n",
        "  padded_atomic_f.append(pad)\n",
        "\n",
        "  padded_atomic_f = np.array(padded_atomic_f)\n",
        "  atomic_f        = np.array(atomic_f)\n",
        "\n",
        "  # converting\n",
        "  atomic_f = torch.tensor(atomic_f, dtype=torch.float)\n",
        "  bonds    = torch.tensor(bonds, dtype=torch.long).t().contiguous()\n",
        "  padded_atomic_f = torch.tensor(padded_atomic_f, dtype=torch.float)\n",
        "  padded_adj = torch.tensor(padded_adj, dtype=torch.float)\n",
        "\n",
        "  return atomic_f, bonds, padded_atomic_f, padded_adj\n",
        "  \n",
        "def load_ZINCdataset1(dataPath):\n",
        "  f = open(dataPath)\n",
        "  SMILES = f.readlines()\n",
        "\n",
        "  print(f'# of SMILES data: {len(SMILES)}')\n",
        "\n",
        "  data_list = []\n",
        "\n",
        "  for smiles in tqdm(SMILES[:10000]):\n",
        "    mol = Chem.MolFromSmiles(smiles.strip())\n",
        "\n",
        "    atomic_f, bonds, padded_atomic_f, padded_adj = molToData(mol)\n",
        "    logP, tpsa, qed, sas = get_targetProperties(mol)\n",
        "\n",
        "    data_list.append(\n",
        "                      np.array([smiles,\n",
        "                      Data(x=atomic_f, y=logP, edge_index=bonds,\n",
        "                            adj=padded_adj, shaped_x=padded_atomic_f, smiles=smiles,\n",
        "                            LogP=logP, TPSA=tpsa, QED=qed, SAS=sas)],\n",
        "                     dtype=object)\n",
        "                    )\n",
        "\n",
        "  data_list = np.array(data_list) # (N x 2; SMILES, DATA)\n",
        "\n",
        "  return data_list\n",
        "\n",
        "def load_CEPdataset1(dataPath, valuePath):\n",
        "  f = open(dataPath)\n",
        "  SMILES = f.readlines()\n",
        "\n",
        "  values = np.load(valuePath)\n",
        "  values = values.astype(np.float64)\n",
        "  values = torch.tensor(values, dtype=torch.float).view(-1, 1)\n",
        "\n",
        "  print(f'# of SMILES data: {len(SMILES)}')\n",
        "\n",
        "  data_list = []\n",
        "\n",
        "  for idx, smiles in tqdm(enumerate(SMILES[:10000])):\n",
        "    mol = Chem.MolFromSmiles(smiles.strip())\n",
        "\n",
        "    atomic_f, bonds, padded_atomic_f, padded_adj = molToData(mol)\n",
        "\n",
        "    data_list.append(\n",
        "                      np.array([smiles,\n",
        "                      Data(x=atomic_f, y=values[idx].view(1,1), edge_index=bonds,\n",
        "                            adj=padded_adj, shaped_x=padded_atomic_f, smiles=smiles)],\n",
        "                     dtype=object)\n",
        "                    )\n",
        "  data_list = np.array(data_list) # (N x 2; SMILES, DATA)\n",
        "\n",
        "  return data_list\n"
      ]
    },
    {
      "cell_type": "markdown",
      "metadata": {
        "id": "gX0U4rt9f69b"
      },
      "source": [
        "## 1-2 variation of the features"
      ]
    },
    {
      "cell_type": "code",
      "execution_count": null,
      "metadata": {
        "id": "A4XiUqyAgBPj"
      },
      "outputs": [],
      "source": [
        "def get_atomicFeature_table():\n",
        "  from mendeleev.fetch import fetch_table\n",
        "  ptable = fetch_table('elements')\n",
        "  ptable = ptable.select_dtypes(include=np.number)\n",
        "  \n",
        "  feature_labels = ['atomic_number','atomic_weight', 'atomic_radius', 'atomic_volume', 'dipole_polarizability', \n",
        "                   'vdw_radius', 'en_pauling','boiling_point', 'electron_affinity', \n",
        "                   'en_allen', 'en_ghosh']\n",
        "\n",
        "\n",
        "  ret = ptable[feature_labels].to_numpy(copy=True)\n",
        "  del ptable\n",
        "\n",
        "  return ret\n",
        "\n",
        "def get_molecluarProperty(mol):\n",
        "  from rdkit.Chem import Descriptors \n",
        "\n",
        "  MolWt                     = rdkit.Chem.Descriptors.MolWt(mol)\n",
        "  HeavyAtomMolWt            = rdkit.Chem.Descriptors.HeavyAtomMolWt(mol)\n",
        "  NumValenceElectrons       = rdkit.Chem.Descriptors.NumValenceElectrons(mol)\n",
        "  FractionCSP3              = rdkit.Chem.Lipinski.FractionCSP3(mol)\n",
        "  HeavyAtomCount            = rdkit.Chem.Lipinski.HeavyAtomCount(mol)\n",
        "  NHOHCount                 = rdkit.Chem.Lipinski.NHOHCount(mol)\n",
        "  NOCount                   = rdkit.Chem.Lipinski.NOCount(mol)\n",
        "  NumAliphaticCarbocycles   = rdkit.Chem.Lipinski.NumAliphaticCarbocycles(mol)\n",
        "  NumAliphaticHeterocycles  = rdkit.Chem.Lipinski.NumAliphaticHeterocycles(mol)\n",
        "  NumAliphaticRings         = rdkit.Chem.Lipinski.NumAliphaticRings(mol)\n",
        "  NumAromaticCarbocycles    = rdkit.Chem.Lipinski.NumAromaticCarbocycles(mol)\n",
        "  NumAromaticHeterocycles   = rdkit.Chem.Lipinski.NumAromaticHeterocycles(mol)\n",
        "  NumAromaticRings          = rdkit.Chem.Lipinski.NumAromaticRings(mol)\n",
        "  NumHAcceptors             = rdkit.Chem.Lipinski.NumHAcceptors(mol)\n",
        "  NumHDonors                = rdkit.Chem.Lipinski.NumHDonors(mol)\n",
        "  NumHeteroatoms            = rdkit.Chem.Lipinski.NumHeteroatoms(mol)\n",
        "  NumRotatableBonds         = rdkit.Chem.Lipinski.NumRotatableBonds(mol)\n",
        "  RingCount                 = rdkit.Chem.Lipinski.RingCount(mol)\n",
        "  MolMR                     = rdkit.Chem.Crippen.MolMR(mol)\n",
        "  \n",
        "  x = np.array([MolWt, HeavyAtomMolWt, NumValenceElectrons, FractionCSP3, HeavyAtomCount, NHOHCount, NOCount, NumAliphaticCarbocycles, NumAliphaticHeterocycles, NumAliphaticRings, NumAromaticCarbocycles, NumAromaticHeterocycles, NumAromaticRings, NumHAcceptors, NumHDonors, NumHeteroatoms, NumRotatableBonds, RingCount, MolMR])\n",
        "  \n",
        "  return x\n",
        "\n",
        "def dataFromMol(mol):\n",
        "  max_atoms = 55 \n",
        "\n",
        "  adj = Chem.GetAdjacencyMatrix(mol) # return np.ndarray (N x N)\n",
        "  N = adj.shape[0]\n",
        "  self_added_adj = adj + np.eye(N, dtype=np.int32) # self node information\n",
        "\n",
        "  padded_adj = np.zeros((max_atoms, max_atoms))\n",
        "  padded_adj[:N, :N] = self_added_adj\n",
        "\n",
        "  # edge_idx = torch.tensor(adj).to_sparse() !! ERR !! \n",
        "  bonds = []\n",
        "  for i in range(mol.GetNumAtoms()):\n",
        "    for j in range(mol.GetNumAtoms()):\n",
        "      if adj[i,j] == 1:\n",
        "        bonds.append([i,j])\n",
        "\n",
        "  # get feature X  \n",
        "  f_table = get_atomicFeature_table()\n",
        "  atomic_f = []\n",
        "  padded_atomic_f = []\n",
        "\n",
        "  pad = np.zeros((max_atoms, 15))\n",
        "  temp_atomic_f = []\n",
        "\n",
        "  for atom in mol.GetAtoms():\n",
        "    value_f = np.concatenate([f_table[atom.GetAtomicNum()-1, :],\n",
        "                                    [atom.GetTotalNumHs(),\n",
        "                                    atom.GetDegree(),\n",
        "                                    atom.GetImplicitValence(),\n",
        "                                    atom.GetIsAromatic() * 1]])\n",
        "    \n",
        "    temp_atomic_f.append(value_f)\n",
        "    atomic_f.append(value_f)\n",
        "\n",
        "  pad[:len(temp_atomic_f), :] = temp_atomic_f\n",
        "  padded_atomic_f.append(pad)\n",
        "\n",
        "  padded_atomic_f = np.array(padded_atomic_f)\n",
        "  atomic_f        = np.array(atomic_f)\n",
        "\n",
        "  mol_f = get_molecluarProperty(mol)\n",
        "  \n",
        "  # converting\n",
        "  atomic_f = torch.tensor(atomic_f, dtype=torch.float)\n",
        "  mol_f    = torch.tensor(mol_f, dtype=torch.float).view(1,-1)\n",
        "  bonds    = torch.tensor(bonds, dtype=torch.long).t().contiguous()\n",
        "  padded_atomic_f = torch.tensor(padded_atomic_f, dtype=torch.float)\n",
        "  padded_adj = torch.tensor(padded_adj, dtype=torch.float)\n",
        "\n",
        "  return atomic_f, mol_f, bonds, padded_atomic_f, padded_adj\n",
        "\n",
        "  \n",
        "def normalize_feature(data):\n",
        "  def standarize(src_data):\n",
        "    means = src_data.mean(dim=0, keepdim=True)\n",
        "    stds  = src_data.std(dim=0, keepdim=True)\n",
        "    \n",
        "    return means, stds\n",
        "\n",
        "  atomic_f = []\n",
        "  padded_atomic_f = []\n",
        "  mol_f = []\n",
        "\n",
        "  for one in data:\n",
        "    atomic_f.append(one.x)\n",
        "    mol_f.append(one.mol_f)\n",
        "    padded_atomic_f.append(one.shaped_x)\n",
        "\n",
        "  atomic_f = torch.cat(atomic_f, dim=0)\n",
        "  mol_f    = torch.cat(mol_f, dim=0)\n",
        "  padded_atomic_f = torch.cat(padded_atomic_f, dim=0)\n",
        "\n",
        "  a_means, a_stds = standarize(atomic_f)\n",
        "  m_means, m_stds = standarize(mol_f)\n",
        "\n",
        "\n",
        "  for idx, one in enumerate(data):\n",
        "    one.x = (one.x - a_means) / a_stds\n",
        "    one.mol_f  = (one.mol_f - m_means) / m_stds\n",
        "    one.shaped_x = (one.shaped_x - a_means) / a_stds\n",
        "\n",
        "  return data\n",
        "\n",
        "def load_ZINCdataset2(dataPath):\n",
        "  f = open(dataPath)\n",
        "  SMILES = f.readlines()\n",
        "\n",
        "  print(f'# of SMILES data: {len(SMILES)}')\n",
        "\n",
        "  data_list = []\n",
        "\n",
        "  for smiles in tqdm(SMILES[:10000]):\n",
        "    mol = Chem.MolFromSmiles(smiles.strip())\n",
        "\n",
        "    atomic_f, mol_f, bonds, padded_atomic_f, padded_adj = dataFromMol(mol)\n",
        "    logP, tpsa, qed, sas = get_targetProperties(mol)\n",
        "\n",
        "    data_list.append(\n",
        "                      np.array([smiles,\n",
        "                      Data(x=atomic_f, y=logP, edge_index=bonds,\n",
        "                            adj=padded_adj, shaped_x=padded_atomic_f,\n",
        "                            smiles=smiles, mol_f=mol_f,\n",
        "                            LogP=logP, TPSA=tpsa, QED=qed, SAS=sas)],\n",
        "                     dtype=object)\n",
        "                    )\n",
        "\n",
        "  data_list = np.array(data_list) # (N x 2; SMILES, DATA)\n",
        "\n",
        "  ## scale is matter\n",
        "  data_list[:, 1] = normalize_feature(data_list[:, 1])\n",
        "  \n",
        "  return data_list\n",
        "\n",
        "def load_CEPdataset2(dataPath, valuePath):\n",
        "  f = open(dataPath)\n",
        "  SMILES = f.readlines()\n",
        "\n",
        "  values = np.load(valuePath)\n",
        "  values = values.astype(np.float64)\n",
        "  values = torch.tensor(values, dtype=torch.float).view(-1, 1)\n",
        "\n",
        "  print(f'# of SMILES data: {len(SMILES)}')\n",
        "\n",
        "  data_list = []\n",
        "\n",
        "  for idx, smiles in tqdm(enumerate(SMILES[:10000])):\n",
        "    mol = Chem.MolFromSmiles(smiles.strip())\n",
        "\n",
        "    atomic_f, mol_f, bonds, padded_atomic_f, padded_adj = dataFromMol(mol)\n",
        "\n",
        "    data_list.append(\n",
        "                      np.array([smiles,\n",
        "                      Data(x=atomic_f, y=values[idx].view(1,1), edge_index=bonds,\n",
        "                            adj=padded_adj, shaped_x=padded_atomic_f,\n",
        "                            smiles=smiles, mol_f=mol_f)],\n",
        "                     dtype=object)\n",
        "                    )\n",
        "  data_list = np.array(data_list) # (N x 2; SMILES, DATA)\n",
        "\n",
        "  data_list[:, 1] = normalize_feature(data_list[:, 1])\n",
        "\n",
        "  return data_list\n"
      ]
    },
    {
      "cell_type": "markdown",
      "metadata": {
        "id": "7EUON32yLvfL"
      },
      "source": [
        "# 2 model implementation"
      ]
    },
    {
      "cell_type": "markdown",
      "metadata": {
        "id": "Mr6DQHIBlIZr"
      },
      "source": [
        "## 2-1 GatedSkipConnection (GATE) & SkipConnection"
      ]
    },
    {
      "cell_type": "code",
      "execution_count": null,
      "metadata": {
        "id": "EW_JVSGXXxBR"
      },
      "outputs": [],
      "source": [
        "class GatedSkipConnection(nn.Module):\n",
        "  def __init__(self, input_dim, output_dim):\n",
        "    super(GatedSkipConnection, self).__init__()\n",
        "\n",
        "    self.input_dim = input_dim\n",
        "    self.output_dim = output_dim\n",
        "\n",
        "    if self.input_dim is not self.output_dim:\n",
        "      self.proj = nn.Linear(self.input_dim, self.output_dim, bias=False)\n",
        "    self.U1 = nn.Linear(self.output_dim, self.output_dim)\n",
        "    self.U2 = nn.Linear(self.output_dim, self.output_dim)\n",
        "\n",
        "    self.sigmoid = nn.Sigmoid()\n",
        "\n",
        "    \n",
        "  def get_gateCoef(self, f_x, id_x):\n",
        "    h1 = self.U1(f_x)\n",
        "    h2 = self.U2(id_x)\n",
        "\n",
        "    output = self.sigmoid(h1 + h2)\n",
        "\n",
        "    return output\n",
        "\n",
        "  def forward(self, f_x, id_x):\n",
        "\n",
        "    if self.input_dim is not self.output_dim:\n",
        "      id_x = self.proj(id_x)\n",
        "\n",
        "    z = self.get_gateCoef(f_x, id_x)\n",
        "    output = z * f_x + (1.0 - z) * id_x\n",
        "    \n",
        "    return output\n",
        "\n",
        "class SkipConnection(nn.Module):\n",
        "  def __init__(self, input_dim, output_dim):\n",
        "    super(SkipConnection, self).__init__()\n",
        "\n",
        "    self.input_dim = input_dim\n",
        "    self.output_dim = output_dim\n",
        "\n",
        "    if self.input_dim is not self.output_dim:\n",
        "      self.proj = nn.Linear(input_dim, output_dim, bias=False)\n",
        "\n",
        "  def forward(self, f_x, id_x):\n",
        "    if self.input_dim is not self.output_dim:\n",
        "      id_x = self.proj(id_x) \n",
        "    \n",
        "    output = f_x + id_x\n",
        "\n",
        "    return output"
      ]
    },
    {
      "cell_type": "markdown",
      "metadata": {
        "id": "xAQ5mSk3lO3w"
      },
      "source": [
        "## 2-2 Graph Convolutional Networks\n",
        "\n",
        "**1 Attention and gate-augmented graph convoutional networks**\n",
        "- Graph Convolutional Networks (GCN) with skip connection\n",
        "- Graph Convolutional Networks (GCN) with gated skip connection\n",
        "- Graph Attention Networks (GAT) with skip connection\n",
        "- Graph Attention Networks (GAT) with gated skip connection \n",
        "\n",
        "**2 Graph Isomorphic Networks**\n",
        "- Graph Isomorphic Networks (GIN) \n",
        "- Graph Convolution Netowkrs (GCN)\n",
        "- Graph SAmple and aggreGatE (SAGE); mean aggregator version\n",
        "\n",
        "**3 Modified SAGE layer**\n",
        "\n",
        "\n",
        "\n",
        "---\n",
        "\n"
      ]
    },
    {
      "cell_type": "markdown",
      "metadata": {
        "id": "jLwB_5PKopjl"
      },
      "source": [
        "### 1) Attention and Gate-augmented Graph Convutional Networks\n",
        "\n",
        "1. GCNwithSkip\n",
        "2. GCNwithGATE\n",
        "3. GATwithSkip\n",
        "4. GATwithGATE"
      ]
    },
    {
      "cell_type": "code",
      "execution_count": null,
      "metadata": {
        "id": "pasl5pFCIByy"
      },
      "outputs": [],
      "source": [
        "class GCNlayer(nn.Module):\n",
        "  def __init__(self, input_dim, output_dim):\n",
        "    super(GCNlayer, self).__init__()\n",
        "\n",
        "    self.linear = nn.Linear(input_dim, output_dim)\n",
        "    # self.norm   = nn.BatchNorm1d(55)\n",
        "\n",
        "  def forward(self, x, adj):\n",
        "    h = self.linear(x)\n",
        "    output = torch.matmul(adj, h)\n",
        "    # h = self.norm(h)\n",
        "    \n",
        "    return output"
      ]
    },
    {
      "cell_type": "code",
      "execution_count": null,
      "metadata": {
        "id": "TWlv_iUjhzCP"
      },
      "outputs": [],
      "source": [
        "class GINlayer(nn.Module):\n",
        "  def __init__(self, mlp, input_dim, output_dim, eps=0):\n",
        "    super(GCNlayer, self).__init__()\n",
        "\n",
        "    self.mlp = mlp\n",
        "    if eps:\n",
        "      self.eps = nn.Parameter(torch.Tensor((eps)))\n",
        "    else:\n",
        "      self.eps = None\n",
        "    \n",
        "\n",
        "  def forward(self, x, adj):\n",
        "\n",
        "    if self.eps is not None:\n",
        "      # A + (1+eps) * I\n",
        "      adj = adj - torch.eye(adj.shape[0], dtype=torch.float)\n",
        "      eye = torch.eye(adj.shape[0], dtype=torch.float)\n",
        "      adj = adj + (1 + self.eps) * eye\n",
        "      \n",
        "    h = torch.matmul(adj, x)\n",
        "    output = self.mlp(h)\n",
        "    \n",
        "    return output"
      ]
    },
    {
      "cell_type": "code",
      "execution_count": null,
      "metadata": {
        "id": "h2wCrsbWk0QW"
      },
      "outputs": [],
      "source": [
        "class GCNwithSkip(nn.Module):\n",
        "  def __init__(self, args):\n",
        "    super(GCNwithSkip, self).__init__()\n",
        "\n",
        "    self.mol_dim = args.mol_dim\n",
        "\n",
        "    self.conv1 = GCNlayer(args.input_dim, args.hidden_dim)\n",
        "    self.conv2 = GCNlayer(args.hidden_dim, args.hidden_dim)\n",
        "    self.conv3 = GCNlayer(args.hidden_dim, args.hidden_dim)\n",
        "\n",
        "    self.skip1 = SkipConnection(args.input_dim, args.hidden_dim)\n",
        "    self.skip2 = SkipConnection(args.hidden_dim, args.hidden_dim)\n",
        "    self.skip3 = SkipConnection(args.hidden_dim, args.hidden_dim)\n",
        "\n",
        "    self.readout = nn.Linear(args.hidden_dim, args.latent_dim)\n",
        "\n",
        "    self.mlp = nn.Sequential(\n",
        "        nn.Linear(args.latent_dim + args.mol_dim, args.latent_dim),\n",
        "        nn.ReLU(),\n",
        "        nn.Linear(args.latent_dim, args.latent_dim),\n",
        "        nn.ReLU(),\n",
        "        nn.Linear(args.latent_dim, 1)\n",
        "    )\n",
        "\n",
        "    self.act = nn.ReLU()\n",
        "    \n",
        "  def forward(self, G):\n",
        "    \n",
        "    edge = G.adj.reshape(G.batch.max().item() +1, -1 , G.adj.shape[-1])\n",
        "    x = G.shaped_x.reshape(G.batch.max().item() +1, -1 , G.x.shape[-1])\n",
        "\n",
        "    id1 = x\n",
        "    h1 = self.conv1(x, edge)\n",
        "    h1 = self.act(h1)\n",
        "    h1 = self.skip1(h1, id1) \n",
        "\n",
        "    id2 = h1\n",
        "    h2 = self.conv2(h1, edge)\n",
        "    h2 = self.act(h2)\n",
        "    h2 = self.skip2(h2, id2)\n",
        "\n",
        "    id3 = h2\n",
        "    h3 = self.conv3(h2, edge)\n",
        "    h3 = self.act(h3)\n",
        "    h3 = self.skip3(h3, id3) \n",
        "\n",
        "    readout = torch.sum(self.readout(h3), 1)\n",
        "\n",
        "    if self.mol_dim >0 :\n",
        "      readout = torch.cat( (readout, G.mol_f), dim=1)\n",
        "    \n",
        "    output = self.mlp(readout)\n",
        "\n",
        "    return output\n",
        "  "
      ]
    },
    {
      "cell_type": "code",
      "execution_count": null,
      "metadata": {
        "id": "C_qDTTJUnIRz"
      },
      "outputs": [],
      "source": [
        "class GCNwithGate(nn.Module):\n",
        "  def __init__(self, args):\n",
        "    super(GCNwithGate, self).__init__()\n",
        "\n",
        "    self.mol_dim = args.mol_dim\n",
        "\n",
        "    self.conv1 = GCNlayer(args.input_dim, args.hidden_dim)\n",
        "    self.conv2 = GCNlayer(args.hidden_dim, args.hidden_dim)\n",
        "    self.conv3 = GCNlayer(args.hidden_dim, args.hidden_dim)\n",
        "\n",
        "    self.skip1 = GatedSkipConnection(args.input_dim, args.hidden_dim)\n",
        "    self.skip2 = GatedSkipConnection(args.hidden_dim, args.hidden_dim)\n",
        "    self.skip3 = GatedSkipConnection(args.hidden_dim, args.hidden_dim)\n",
        "\n",
        "    self.readout = nn.Linear(args.hidden_dim, args.latent_dim)\n",
        "\n",
        "    self.mlp = nn.Sequential(\n",
        "        nn.Linear(args.latent_dim + args.mol_dim , args.latent_dim),\n",
        "        nn.ReLU(),\n",
        "        nn.Linear(args.latent_dim, args.latent_dim),\n",
        "        nn.ReLU(),\n",
        "        nn.Linear(args.latent_dim, 1)\n",
        "    )\n",
        "\n",
        "    self.act = nn.ReLU()\n",
        "    \n",
        "  def forward(self, G):\n",
        "    \n",
        "    edge = G.adj.reshape(G.batch.max().item() +1, -1 , G.adj.shape[-1])\n",
        "    x = G.shaped_x.reshape(G.batch.max().item() +1, -1 , G.x.shape[-1])\n",
        "    \n",
        "    id1 = x\n",
        "    h1 = self.conv1(x, edge)\n",
        "    h1 = self.act(h1)\n",
        "    h1 = self.skip1(h1, id1) \n",
        "\n",
        "    id2 = h1\n",
        "    h2 = self.conv2(h1, edge)\n",
        "    h2 = self.act(h2)\n",
        "    h2 = self.skip2(h2, id2)\n",
        "\n",
        "    id3 = h2\n",
        "    h3 = self.conv3(h2, edge)\n",
        "    h3 = self.act(h3)\n",
        "    h3 = self.skip3(h3, id3) \n",
        "\n",
        "    # h3:(B, atom, 32) -> readout(h3): (B, atom, 512) -> readout:(B, 512)\n",
        "    readout = torch.sum(self.readout(h3), 1)\n",
        "\n",
        "    if self.mol_dim >0 :\n",
        "      readout = torch.cat( (readout, G.mol_f), dim=1)\n",
        "    \n",
        "    output = self.mlp(readout)\n",
        "\n",
        "    return output\n",
        "  "
      ]
    },
    {
      "cell_type": "code",
      "execution_count": null,
      "metadata": {
        "id": "XTKmjrn0tkG9"
      },
      "outputs": [],
      "source": [
        "# multihead attention\n",
        "class GATlayer(nn.Module):\n",
        "  def __init__(self, input_dim, output_dim, head_num):\n",
        "    super(GATlayer, self).__init__()\n",
        "    self.W1 = nn.ModuleList([nn.Linear(input_dim, output_dim) for _ in range(head_num)])\n",
        "    self.att_weight = nn.ModuleList([nn.Linear(input_dim, output_dim) for _ in range(head_num)])\n",
        "    self.act = nn.ReLU()\n",
        "    self.head_num = head_num\n",
        "\n",
        "  def attention(self, x, adj):\n",
        "    attn = []\n",
        "    for layer in self.att_weight:\n",
        "      h = layer(x)\n",
        "      ch = torch.matmul(h.transpose(1,2), adj)\n",
        "      hch = torch.matmul(h, ch)\n",
        "      attn.append(torch.tanh(hch))\n",
        "\n",
        "    return attn\n",
        "  \n",
        "  def forward(self, x, adj):\n",
        "    attns = self.attention(x, adj)\n",
        "    outputs = []      \n",
        "    for i in range (len(attns)):\n",
        "      h = self.W1[i](x)\n",
        "      outputs.append(torch.matmul(attns[i],h))\n",
        "    outputs = torch.stack(outputs)\n",
        "    output = torch.sum(outputs, dim=0, keepdim=False)\n",
        "    output /= self.head_num\n",
        "    output = self.act(output)\n",
        "\n",
        "    return output "
      ]
    },
    {
      "cell_type": "code",
      "execution_count": null,
      "metadata": {
        "id": "PSkjL5tb9YTt"
      },
      "outputs": [],
      "source": [
        "class GATwithSkip(nn.Module):\n",
        "  def __init__(self, args):\n",
        "    super(GATwithSkip, self).__init__()\n",
        "\n",
        "    self.mol_dim = args.mol_dim\n",
        "\n",
        "    self.conv1 = GATlayer(args.input_dim, args.hidden_dim, args.head_num)\n",
        "    self.conv2 = GATlayer(args.hidden_dim, args.hidden_dim, args.head_num)\n",
        "    self.conv3 = GATlayer(args.hidden_dim, args.hidden_dim, args.head_num)\n",
        "\n",
        "    self.skip1 = SkipConnection(args.input_dim, args.hidden_dim)\n",
        "    self.skip2 = SkipConnection(args.hidden_dim, args.hidden_dim)\n",
        "    self.skip3 = SkipConnection(args.hidden_dim, args.hidden_dim)\n",
        "\n",
        "    self.readout = nn.Linear(args.hidden_dim, args.latent_dim)\n",
        "\n",
        "    self.mlp = nn.Sequential(\n",
        "        nn.Linear(args.latent_dim + args.mol_dim, args.latent_dim),\n",
        "        nn.ReLU(),\n",
        "        nn.Linear(args.latent_dim, args.latent_dim),\n",
        "        nn.ReLU(),\n",
        "        nn.Linear(args.latent_dim, 1)\n",
        "    )\n",
        "\n",
        "    self.act = nn.ReLU()\n",
        "    \n",
        "  def forward(self, G):\n",
        "    \n",
        "    edge = G.adj.reshape(G.batch.max().item() +1, -1 , G.adj.shape[-1])\n",
        "    x = G.shaped_x.reshape(G.batch.max().item() +1, -1 , G.x.shape[-1])\n",
        "\n",
        "    id1 = x\n",
        "    h1 = self.conv1(x, edge)\n",
        "    h1 = self.act(h1)\n",
        "    h1 = self.skip1(h1, id1) \n",
        "\n",
        "    id2 = h1\n",
        "    h2 = self.conv2(h1, edge)\n",
        "    h2 = self.act(h2)\n",
        "    h2 = self.skip2(h2, id2)\n",
        "\n",
        "    id3 = h2\n",
        "    h3 = self.conv3(h2, edge)\n",
        "    h3 = self.act(h3)\n",
        "    h3 = self.skip3(h3, id3) \n",
        "\n",
        "    readout = torch.sum(self.readout(h3), 1)\n",
        "\n",
        "    if self.mol_dim >0 :\n",
        "      readout = torch.cat( (readout, G.mol_f), dim=1)\n",
        "    \n",
        "    output = self.mlp(readout)\n",
        "\n",
        "    return output"
      ]
    },
    {
      "cell_type": "code",
      "execution_count": null,
      "metadata": {
        "id": "OvNeJrBk99A6"
      },
      "outputs": [],
      "source": [
        "class GATwithGate(nn.Module):\n",
        "  def __init__(self, args):\n",
        "    super(GATwithGate, self).__init__()\n",
        "\n",
        "    self.mol_dim = args.mol_dim\n",
        "\n",
        "    self.conv1 = GATlayer(args.input_dim, args.hidden_dim, args.head_num)\n",
        "    self.conv2 = GATlayer(args.hidden_dim, args.hidden_dim, args.head_num)\n",
        "    self.conv3 = GATlayer(args.hidden_dim, args.hidden_dim, args.head_num)\n",
        "\n",
        "    self.skip1 = GatedSkipConnection(args.input_dim, args.hidden_dim)\n",
        "    self.skip2 = GatedSkipConnection(args.hidden_dim, args.hidden_dim)\n",
        "    self.skip3 = GatedSkipConnection(args.hidden_dim, args.hidden_dim)\n",
        "\n",
        "    self.readout = nn.Linear(args.hidden_dim, args.latent_dim)\n",
        "\n",
        "    self.mlp = nn.Sequential(\n",
        "        nn.Linear(args.latent_dim + args.mol_dim , args.latent_dim),\n",
        "        nn.ReLU(),\n",
        "        nn.Linear(args.latent_dim, args.latent_dim),\n",
        "        nn.ReLU(),\n",
        "        nn.Linear(args.latent_dim, 1)\n",
        "    )\n",
        "\n",
        "    self.act = nn.ReLU()\n",
        "    \n",
        "  def forward(self, G):\n",
        "    \n",
        "    edge = G.adj.reshape(G.batch.max().item() +1, -1 , G.adj.shape[-1])\n",
        "    x = G.shaped_x.reshape(G.batch.max().item() +1, -1 , G.x.shape[-1])\n",
        "    \n",
        "    id1 = x\n",
        "    h1 = self.conv1(x, edge)\n",
        "    h1 = self.act(h1)\n",
        "    h1 = self.skip1(h1, id1) \n",
        "\n",
        "    id2 = h1\n",
        "    h2 = self.conv2(h1, edge)\n",
        "    h2 = self.act(h2)\n",
        "    h2 = self.skip2(h2, id2)\n",
        "\n",
        "    id3 = h2\n",
        "    h3 = self.conv3(h2, edge)\n",
        "    h3 = self.act(h3)\n",
        "    h3 = self.skip3(h3, id3) \n",
        "\n",
        "    # h3:(B, atom, 32) -> readout(h3): (B, atom, 512) -> readout:(B, 512)\n",
        "    readout = torch.sum(self.readout(h3), 1)\n",
        "\n",
        "    if self.mol_dim >0 :\n",
        "      readout = torch.cat( (readout, G.mol_f), dim=1)\n",
        "    \n",
        "    output = self.mlp(readout)\n",
        "\n",
        "    return output"
      ]
    },
    {
      "cell_type": "markdown",
      "metadata": {
        "id": "nMOn3VnTo8zP"
      },
      "source": [
        "### 2) Graph Isomorphic Netwokrs\n",
        "1. GIN\n",
        "2. GCN\n",
        "3. SAGE"
      ]
    },
    {
      "cell_type": "code",
      "execution_count": null,
      "metadata": {
        "id": "JV51c-4OpAxe"
      },
      "outputs": [],
      "source": [
        "class MLPcell(nn.Module):\n",
        "  def __init__(self, input_dim, output_dim, hidden_dim):\n",
        "    super(MLPcell, self).__init__()\n",
        "\n",
        "    self.mlp = nn.Sequential(\n",
        "        nn.Linear(input_dim, hidden_dim),\n",
        "        nn.BatchNorm1d(hidden_dim),\n",
        "        nn.ReLU(),\n",
        "        nn.Linear(hidden_dim, output_dim),\n",
        "    )\n",
        "\n",
        "  def forward(self, x):\n",
        "\n",
        "    output = self.mlp(x)\n",
        "\n",
        "    return output"
      ]
    },
    {
      "cell_type": "code",
      "execution_count": null,
      "metadata": {
        "id": "RAn2kQDIo26N"
      },
      "outputs": [],
      "source": [
        "class GIN(nn.Module):\n",
        "  def __init__(self, args):\n",
        "      super(GIN, self).__init__()\n",
        "\n",
        "      self.mol_dim = args.mol_dim\n",
        "\n",
        "      self.conv1 = geo.nn.GINConv(nn=MLPcell(args.input_dim, args.hidden_dim, args.hidden_dim))\n",
        "      self.conv2 = geo.nn.GINConv(nn=MLPcell(args.hidden_dim, args.hidden_dim, args.hidden_dim))\n",
        "      self.conv3 = geo.nn.GINConv(nn=MLPcell(args.hidden_dim, args.hidden_dim, args.hidden_dim))\n",
        "      self.conv4 = geo.nn.GINConv(nn=MLPcell(args.hidden_dim, args.hidden_dim, args.hidden_dim))\n",
        "      self.conv5 = geo.nn.GINConv(nn=MLPcell(args.hidden_dim, args.hidden_dim, args.hidden_dim))\n",
        "\n",
        "      self.norm1 = geo.nn.BatchNorm(args.hidden_dim)\n",
        "      self.norm2 = geo.nn.BatchNorm(args.hidden_dim)\n",
        "      self.norm3 = geo.nn.BatchNorm(args.hidden_dim)\n",
        "      self.norm4 = geo.nn.BatchNorm(args.hidden_dim)\n",
        "      self.norm5 = geo.nn.BatchNorm(args.hidden_dim)\n",
        "\n",
        "      self.dropout = nn.Dropout(args.dropout)\n",
        "\n",
        "      self.mlp = nn.Sequential(\n",
        "          nn.Linear(args.hidden_dim*5 +args.input_dim + self.mol_dim, args.latent_dim),\n",
        "          nn.ReLU(),\n",
        "          nn.Linear(args.latent_dim, args.latent_dim),\n",
        "          nn.ReLU(),\n",
        "          nn.Linear(args.latent_dim, 1)\n",
        "      )\n",
        "\n",
        "      self.act = nn.ReLU()\n",
        "\n",
        "  def forward(self, G):\n",
        "    edge = G.edge_index\n",
        "\n",
        "\n",
        "    h1 = self.conv1(G.x,  edge)\n",
        "    h1 = self.norm1(h1)\n",
        "    h1 = self.act(h1)\n",
        "\n",
        "    h2 = self.conv2(h1, edge)\n",
        "    h2 = self.norm2(h2)\n",
        "    h2 = self.act(h2)\n",
        "\n",
        "    h3 = self.conv3(h2, edge)\n",
        "    h3 = self.norm3(h3)\n",
        "    h3 = self.act(h3)\n",
        "\n",
        "    h4 = self.conv4(h3, edge)\n",
        "    h4 = self.norm4(h4)\n",
        "    h4 = self.act(h4)\n",
        "\n",
        "    h5 = self.conv5(h4, edge)\n",
        "    h5 = self.norm5(h5)\n",
        "    h5 = self.act(h5)\n",
        "\n",
        "\n",
        "    h0 = geo.nn.global_add_pool(G.x, G.batch)\n",
        "    h1 = geo.nn.global_add_pool(h1, G.batch)\n",
        "    h2 = geo.nn.global_add_pool(h2, G.batch)\n",
        "    h3 = geo.nn.global_add_pool(h3, G.batch)\n",
        "    h4 = geo.nn.global_add_pool(h4, G.batch)\n",
        "    h5 = geo.nn.global_add_pool(h5, G.batch)\n",
        "\n",
        "    h = torch.cat( (h0, h1, h2, h3, h4, h5), dim=1 )\n",
        "    if self.mol_dim > 0:\n",
        "      h = torch.cat( (h, G.mol_f), dim=1)\n",
        "    \n",
        "    output = self.mlp(h)\n",
        "\n",
        "    return output"
      ]
    },
    {
      "cell_type": "code",
      "execution_count": null,
      "metadata": {
        "id": "4_bS4YAjvo5g"
      },
      "outputs": [],
      "source": [
        "class GCN(nn.Module):\n",
        "  def __init__(self, args):\n",
        "    super(GCN, self).__init__()\n",
        "\n",
        "    self.mol_dim = args.mol_dim\n",
        "    self.hidden_dim = args.hidden_dim\n",
        "\n",
        "    self.conv1 = geo.nn.GCNConv(args.input_dim, args.hidden_dim)\n",
        "    self.skip1 = SkipConnection(args.input_dim, args.hidden_dim, args.concat)    \n",
        "\n",
        "    if args.concat:\n",
        "      self.hidden_dim *= 2\n",
        "    self.conv2 = geo.nn.GCNConv(self.hidden_dim, self.hidden_dim)\n",
        "    self.skip2 = SkipConnection(self.hidden_dim, self.hidden_dim, args.concat)\n",
        "\n",
        "    if args.concat:\n",
        "      self.hidden_dim *= 2\n",
        "    self.conv3 = geo.nn.GCNConv(self.hidden_dim, self.hidden_dim)\n",
        "    self.skip3 = SkipConnection(self.hidden_dim, self.hidden_dim, args.concat)\n",
        "\n",
        "    # the origin version used softmax fucntion for 'node classification' \n",
        "    if args.concat:\n",
        "      self.hidden_dim *= 2\n",
        "    self.dropout = nn.Dropout(args.dropout)\n",
        "    self.mlp = nn.Sequential(\n",
        "          nn.Linear(self.hidden_dim + self.mol_dim, args.latent_dim),\n",
        "          nn.ReLU(),\n",
        "          nn.Linear(args.latent_dim, args.latent_dim),\n",
        "          nn.ReLU(),\n",
        "          nn.Linear(args.latent_dim, 1)\n",
        "      )\n",
        "\n",
        "    self.act = nn.ReLU()\n",
        "\n",
        "  def forward (self, G):\n",
        "    edge = G.edge_index\n",
        "\n",
        "    id1 = G.x\n",
        "    h1 = self.conv1(G.x, edge)\n",
        "    h1 = self.act(h1)\n",
        "    h1 = self.skip1(h1, id1)\n",
        "\n",
        "    id2 = h1\n",
        "    h2 = self.conv2(h1,  edge)\n",
        "    h2 = self.act(h2)\n",
        "    h2 = self.skip2(h2, id2)\n",
        "\n",
        "    id3 = h2\n",
        "    h3 = self.conv3(h2, edge)\n",
        "    h3 = self.act(h2)\n",
        "    h3 = self.skip3(h3, id3)\n",
        "\n",
        "    h = geo.nn.global_add_pool(h3, G.batch)\n",
        "\n",
        "    if self.mol_dim > 0:\n",
        "      h = torch.cat( (h, G.mol_f), dim=1)\n",
        "\n",
        "    output = self.mlp(h)\n",
        "\n",
        "    return output"
      ]
    },
    {
      "cell_type": "code",
      "execution_count": null,
      "metadata": {
        "id": "Tg2USnFMzixq"
      },
      "outputs": [],
      "source": [
        "class SAGE(nn.Module):\n",
        "  def __init__(self, args):\n",
        "    super(SAGE, self).__init__()\n",
        "\n",
        "    self.mol_dim = args.mol_dim\n",
        "    \n",
        "    \n",
        "\n",
        "    self.hidden_dim = args.hidden_dim\n",
        "\n",
        "    self.conv1 = geo.nn.SAGEConv(args.input_dim, args.hidden_dim, aggr=args.aggr)\n",
        "    self.norm1 = geo.nn.LayerNorm(args.hidden_dim)\n",
        "    self.skip1 = SkipConnection(args.input_dim, args.hidden_dim, args.concat)\n",
        "    \n",
        "    if args.concat:\n",
        "      self.hidden_dim *= 2\n",
        "    self.conv2 = geo.nn.SAGEConv(self.hidden_dim, self.hidden_dim, aggr=args.aggr)\n",
        "    self.skip2 = SkipConnection(self.hidden_dim, self.hidden_dim, args.concat)\n",
        "    self.norm2 = geo.nn.LayerNorm(self.hidden_dim)\n",
        "\n",
        "    if args.concat:\n",
        "      self.hidden_dim *= 2\n",
        "    self.conv3 = geo.nn.SAGEConv(self.hidden_dim, self.hidden_dim, aggr=args.aggr)\n",
        "    self.skip3 = SkipConnection(self.hidden_dim, self.hidden_dim, args.concat)\n",
        "    self.norm3 = geo.nn.LayerNorm(self.hidden_dim)\n",
        "    \n",
        "    if args.concat:\n",
        "      self.hidden_dim *= 2\n",
        "    self.conv4 = geo.nn.SAGEConv(self.hidden_dim, self.hidden_dim, aggr=args.aggr)\n",
        "    self.skip4 = SkipConnection(self.hidden_dim, self.hidden_dim, args.concat)\n",
        "    self.norm4 = geo.nn.LayerNorm(self.hidden_dim)\n",
        "\n",
        "\n",
        "    if args.concat:\n",
        "      self.hidden_dim *= 2\n",
        "    self.conv5 = geo.nn.SAGEConv(self.hidden_dim, self.hidden_dim, aggr=args.aggr)\n",
        "    self.skip5 = SkipConnection(self.hidden_dim, self.hidden_dim, args.concat)\n",
        "    self.norm5 = geo.nn.LayerNorm(self.hidden_dim)\n",
        "\n",
        "\n",
        "    # Chen and Zhu achieve superior performance by optimizing the GraphSAGE hyperparameters with layer normalization\n",
        "\n",
        "    if args.concat:\n",
        "      self.hidden_dim *= 2\n",
        "    self.dropout = nn.Dropout(args.dropout)\n",
        "    self.mlp = nn.Sequential(\n",
        "          nn.Linear(self.hidden_dim + self.mol_dim, args.latent_dim),\n",
        "          nn.ReLU(),\n",
        "          nn.Linear(args.latent_dim, args.latent_dim),\n",
        "          nn.ReLU(),\n",
        "          nn.Linear(args.latent_dim, 1)\n",
        "      )\n",
        "\n",
        "    self.act = nn.ReLU()\n",
        "\n",
        "  def forward (self, G):\n",
        "    edge = G.edge_index\n",
        "\n",
        "    id1 = G.x\n",
        "    h1 = self.conv1(G.x, edge)\n",
        "    h1 = self.norm1(h1)\n",
        "    h1 = self.act(h1)\n",
        "    h1 = self.skip1(h1, id1)\n",
        "\n",
        "    id2 = h1\n",
        "    h2 = self.conv2(h1,  edge)\n",
        "    h2 = self.norm2(h2)\n",
        "    h2 = self.act(h2)\n",
        "    h2 = self.skip2(h2, id2)\n",
        "\n",
        "    id3 = h2\n",
        "    h3 = self.conv3(h2, edge)\n",
        "    h3 = self.norm3(h3)\n",
        "    h3 = self.act(h3)\n",
        "    h3 = self.skip3(h3, id3)\n",
        "\n",
        "    id4 = h3\n",
        "    h4 = self.conv4(h3, edge)\n",
        "    h4 = self.norm4(h4)\n",
        "    h4 = self.act(h4)\n",
        "    h4 = self.skip4(h4, id4)\n",
        "\n",
        "    id5 = h4\n",
        "    h5 = self.conv5(h4, edge)\n",
        "    h5 = self.norm5(h5)\n",
        "    h5 = self.act(h5)\n",
        "    h5 = self.skip5(h5, id5)\n",
        "\n",
        "\n",
        "    h = geo.nn.global_add_pool(h5, G.batch)\n",
        "\n",
        "    if self.mol_dim > 0:\n",
        "      h = torch.cat( (h, G.mol_f), dim=1)\n",
        "\n",
        "    output = self.mlp(h)\n",
        "\n",
        "    return output"
      ]
    },
    {
      "cell_type": "markdown",
      "metadata": {
        "id": "XP_V4XSnkgl-"
      },
      "source": [
        "### 3) Modified SAGE layer"
      ]
    },
    {
      "cell_type": "code",
      "execution_count": null,
      "metadata": {
        "id": "9WYYOwqvkzDo"
      },
      "outputs": [],
      "source": [
        "from typing import List, Optional, Tuple, Union\n",
        "\n",
        "import torch.nn.functional as F\n",
        "from torch import Tensor\n",
        "from torch.nn import LSTM\n",
        "from torch_sparse import SparseTensor, matmul\n",
        "\n",
        "from torch_geometric.nn.aggr import Aggregation, MultiAggregation\n",
        "from torch_geometric.nn.conv import MessagePassing\n",
        "from torch_geometric.nn.dense.linear import Linear\n",
        "from torch_geometric.typing import Adj, OptPairTensor, Size\n",
        "\n",
        "class modified_SAGEConv(MessagePassing):\n",
        "    def __init__(\n",
        "        self,\n",
        "        in_channels: Union[int, Tuple[int, int]],\n",
        "        out_channels: int,\n",
        "        self_nn=None,\n",
        "        neighbor_nn=None,\n",
        "        aggr: Optional[Union[str, List[str], Aggregation]] = \"add\",\n",
        "        normalize: bool = False,\n",
        "        root_weight: bool = True,\n",
        "        project: bool = False,\n",
        "        bias: bool = True,\n",
        "        **kwargs,\n",
        "    ):\n",
        "        self.in_channels = in_channels\n",
        "        self.out_channels = out_channels\n",
        "        self.normalize = normalize\n",
        "        self.root_weight = root_weight\n",
        "        self.project = project\n",
        "\n",
        "        if isinstance(in_channels, int):\n",
        "            in_channels = (in_channels, in_channels)\n",
        "\n",
        "        if aggr == 'lstm':\n",
        "            kwargs.setdefault('aggr_kwargs', {})\n",
        "            kwargs['aggr_kwargs'].setdefault('in_channels', in_channels[0])\n",
        "            kwargs['aggr_kwargs'].setdefault('out_channels', in_channels[0])\n",
        "\n",
        "        super().__init__(aggr, **kwargs)\n",
        "\n",
        "        if self.project:\n",
        "            self.lin = Linear(in_channels[0], in_channels[0], bias=True)\n",
        "\n",
        "        if self.aggr is None:\n",
        "            self.fuse = False  # No \"fused\" message_and_aggregate.\n",
        "            self.lstm = LSTM(in_channels[0], in_channels[0], batch_first=True)\n",
        "\n",
        "        if isinstance(self.aggr_module, MultiAggregation):\n",
        "            aggr_out_channels = self.aggr_module.get_out_channels(\n",
        "                in_channels[0])\n",
        "        else:\n",
        "            aggr_out_channels = in_channels[0]\n",
        "\n",
        "        if neighbor_nn is None:\n",
        "          self.mlp_l = Linear(aggr_out_channels, out_channels, bias=bias)\n",
        "        else:\n",
        "          self.mlp_l = neighbor_nn\n",
        "        if self.root_weight:\n",
        "          if self_nn is None:\n",
        "            self.mlp_r = Linear(in_channels[1], out_channels, bias=False)\n",
        "          else:\n",
        "            self.mlp_r = self_nn\n",
        "        \n",
        "\n",
        "        self.reset_parameters()\n",
        "\n",
        "    def reset_parameters(self):\n",
        "        if self.project:\n",
        "            self.lin.reset_parameters()\n",
        "        self.aggr_module.reset_parameters()\n",
        "        # self.mlp_l.reset_parameters()\n",
        "        # if self.root_weight:\n",
        "        #     self.mlp_r.reset_parameters()\n",
        "\n",
        "\n",
        "    def forward(self, x: Union[Tensor, OptPairTensor], edge_index: Adj,\n",
        "                size: Size = None) -> Tensor:\n",
        "        \"\"\"\"\"\"\n",
        "        if isinstance(x, Tensor):\n",
        "            x: OptPairTensor = (x, x)\n",
        "\n",
        "        if self.project and hasattr(self, 'lin'):\n",
        "            x = (self.lin(x[0]).relu(), x[1])\n",
        "\n",
        "        # propagate_type: (x: OptPairTensor)\n",
        "        out = self.propagate(edge_index, x=x, size=size)\n",
        "        out = self.mlp_l(out)\n",
        "\n",
        "        x_r = x[1]\n",
        "        if self.root_weight and x_r is not None:\n",
        "            out = out + self.mlp_r(x_r)\n",
        "\n",
        "        if self.normalize:\n",
        "            out = F.normalize(out, p=2., dim=-1)\n",
        "\n",
        "        return out\n",
        "\n",
        "\n",
        "    def message(self, x_j: Tensor) -> Tensor:\n",
        "        return x_j\n",
        "\n",
        "    def message_and_aggregate(self, adj_t: SparseTensor,\n",
        "                              x: OptPairTensor) -> Tensor:\n",
        "        adj_t = adj_t.set_value(None, layout=None)\n",
        "        return matmul(adj_t, x[0], reduce=self.aggr)\n",
        "\n",
        "    def __repr__(self) -> str:\n",
        "        return (f'{self.__class__.__name__}({self.in_channels}, '\n",
        "                f'{self.out_channels}, aggr={self.aggr})')\n"
      ]
    },
    {
      "cell_type": "code",
      "execution_count": null,
      "metadata": {
        "id": "164IArNVkzo0"
      },
      "outputs": [],
      "source": [
        "class modified_SAGE(nn.Module):\n",
        "  def __init__(self, args):\n",
        "    super(modified_SAGE, self).__init__()\n",
        "\n",
        "    self.mol_dim = args.mol_dim\n",
        "\n",
        "    self.hidden_dim = args.hidden_dim\n",
        "\n",
        "    self.conv1 = modified_SAGEConv(args.input_dim, args.hidden_dim,\n",
        "                                   self_nn=MLPcell(args.input_dim, args.hidden_dim, args.hidden_dim),\n",
        "                                   neighbor_nn=MLPcell(args.input_dim, args.hidden_dim, args.hidden_dim))\n",
        "    self.norm1 = geo.nn.LayerNorm(args.hidden_dim)\n",
        "    self.skip1 = SkipConnection(args.input_dim, args.hidden_dim, args.concat)\n",
        "    \n",
        "    if args.concat:\n",
        "      self.hidden_dim *= 2\n",
        "    self.conv2 = modified_SAGEConv(self.hidden_dim, self.hidden_dim,\n",
        "                                   self_nn=MLPcell(self.hidden_dim, self.hidden_dim, self.hidden_dim),\n",
        "                                   neighbor_nn=MLPcell(self.hidden_dim, self.hidden_dim, self.hidden_dim))\n",
        "    self.skip2 = SkipConnection(self.hidden_dim, self.hidden_dim, args.concat)\n",
        "    self.norm2 = geo.nn.LayerNorm(self.hidden_dim)\n",
        "\n",
        "    if args.concat:\n",
        "      self.hidden_dim *= 2\n",
        "    self.conv3 = modified_SAGEConv(self.hidden_dim, self.hidden_dim,\n",
        "                                   self_nn=MLPcell(self.hidden_dim, self.hidden_dim, self.hidden_dim),\n",
        "                                   neighbor_nn=MLPcell(self.hidden_dim, self.hidden_dim, self.hidden_dim))\n",
        "    self.skip3 = SkipConnection(self.hidden_dim, self.hidden_dim, args.concat)\n",
        "    self.norm3 = geo.nn.LayerNorm(self.hidden_dim)\n",
        "    \n",
        "    if args.concat:\n",
        "      self.hidden_dim *= 2\n",
        "    self.conv4 = modified_SAGEConv(self.hidden_dim, self.hidden_dim,\n",
        "                                   self_nn=MLPcell(self.hidden_dim, self.hidden_dim, self.hidden_dim),\n",
        "                                   neighbor_nn=MLPcell(self.hidden_dim, self.hidden_dim, self.hidden_dim))\n",
        "    self.skip4 = SkipConnection(self.hidden_dim, self.hidden_dim, args.concat)\n",
        "    self.norm4 = geo.nn.LayerNorm(self.hidden_dim)\n",
        "\n",
        "\n",
        "    if args.concat:\n",
        "      self.hidden_dim *= 2\n",
        "    self.conv5 = modified_SAGEConv(self.hidden_dim, self.hidden_dim,\n",
        "                                   self_nn=MLPcell(self.hidden_dim, self.hidden_dim, self.hidden_dim),\n",
        "                                   neighbor_nn=MLPcell(self.hidden_dim, self.hidden_dim, self.hidden_dim))\n",
        "    self.skip5 = SkipConnection(self.hidden_dim, self.hidden_dim, args.concat)\n",
        "    self.norm5 = geo.nn.LayerNorm(self.hidden_dim)\n",
        "\n",
        "    if args.concat:\n",
        "      self.hidden_dim *= 2\n",
        "    self.dropout = nn.Dropout(args.dropout)\n",
        "    self.mlp = nn.Sequential(\n",
        "          nn.Linear(self.hidden_dim + self.mol_dim, args.latent_dim),\n",
        "          nn.ELU(),\n",
        "          nn.Linear(args.latent_dim, args.latent_dim),\n",
        "          nn.ELU(),\n",
        "          nn.Linear(args.latent_dim, 1)\n",
        "      )\n",
        "\n",
        "    self.act = nn.ELU()\n",
        "\n",
        "  def forward (self, G):\n",
        "    edge = G.edge_index\n",
        "\n",
        "    id1 = G.x\n",
        "    h1 = self.conv1(G.x, edge)\n",
        "    h1 = self.norm1(h1)\n",
        "    h1 = self.act(h1)\n",
        "    h1 = self.skip1(h1, id1)\n",
        "\n",
        "    id2 = h1\n",
        "    h2 = self.conv2(h1,  edge)\n",
        "    h2 = self.norm2(h2)\n",
        "    h2 = self.act(h2)\n",
        "    h2 = self.skip2(h2, id2)\n",
        "\n",
        "    id3 = h2\n",
        "    h3 = self.conv3(h2, edge)\n",
        "    h3 = self.norm3(h3)\n",
        "    h3 = self.act(h3)\n",
        "    h3 = self.skip3(h3, id3)\n",
        "\n",
        "    id4 = h3\n",
        "    h4 = self.conv4(h3, edge)\n",
        "    h4 = self.norm4(h4)\n",
        "    h4 = self.act(h4)\n",
        "    h4 = self.skip4(h4, id4)\n",
        "\n",
        "    id5 = h4\n",
        "    h5 = self.conv5(h4, edge)\n",
        "    h5 = self.norm5(h5)\n",
        "    h5 = self.act(h5)\n",
        "    h5 = self.skip5(h5, id5)\n",
        "\n",
        "\n",
        "    h = geo.nn.global_add_pool(h5, G.batch)\n",
        "\n",
        "    if self.mol_dim > 0:\n",
        "      h = torch.cat( (h, G.mol_f), dim=1)\n",
        "\n",
        "    output = self.mlp(h)\n",
        "\n",
        "    return output"
      ]
    },
    {
      "cell_type": "markdown",
      "metadata": {
        "id": "Jx6n-oQcNf7x"
      },
      "source": [
        "# 3 Training"
      ]
    },
    {
      "cell_type": "markdown",
      "metadata": {
        "id": "RHl-BfASk3H_"
      },
      "source": [
        "## 3-1 train, test and runner functions"
      ]
    },
    {
      "cell_type": "code",
      "execution_count": null,
      "metadata": {
        "id": "H9mLZlm25y09"
      },
      "outputs": [],
      "source": [
        "def train(model, data_loader, optimizer, criterion, DEVICE):\n",
        "    model.train()\n",
        "    train_loss = 0\n",
        "\n",
        "    for batch in data_loader:\n",
        "\n",
        "        pred = model(batch.to(DEVICE))\n",
        "        loss = criterion(pred, batch.y)\n",
        "        optimizer.zero_grad()\n",
        "        loss.backward()\n",
        "        optimizer.step()\n",
        "\n",
        "        train_loss += loss.item()\n",
        "\n",
        "    return train_loss / len(data_loader)\n",
        "\n",
        "def test(model, data_loader,DEVICE):\n",
        "    model.eval()\n",
        "    list_preds = list()\n",
        "    \n",
        "    with torch.no_grad():\n",
        "        for batch in data_loader:\n",
        "            preds = model(batch.to(DEVICE))\n",
        "            list_preds.append(preds)\n",
        "\n",
        "    return torch.cat(list_preds, dim=0).cpu().numpy()"
      ]
    },
    {
      "cell_type": "code",
      "execution_count": null,
      "metadata": {
        "id": "hQB6exQD7ZdE"
      },
      "outputs": [],
      "source": [
        "def set_targetY(dataset, target=''):\n",
        "  # default Y == LogP\n",
        "  if target == 'LogP':\n",
        "    for one in dataset:\n",
        "      one.y = one.LogP\n",
        "\n",
        "  if target == 'TPSA':\n",
        "    for one in dataset:\n",
        "      one.y = one.TPSA\n",
        "\n",
        "  # if target == 'QED':\n",
        "  #   for one in dataset:\n",
        "  #     one.y = one.QED\n",
        "\n",
        "  if target == 'SAS':\n",
        "    for one in dataset:\n",
        "      one.y = one.SAS\n",
        "  \n",
        "  return dataset\n",
        "\n",
        "\n",
        "\n",
        "def run_training(model, args, ZINC_data, CEP_data, target_prop=\"\"):\n",
        "\n",
        "  from datetime import datetime, timezone, timedelta\n",
        "  from sklearn.model_selection import train_test_split\n",
        "  from sklearn.metrics import r2_score\n",
        "\n",
        "  print(f'Experiment start, {datetime.now(timezone(timedelta(hours=9)))}')\n",
        "\n",
        "  test_results = []\n",
        "  loss_log = [] \n",
        "\n",
        "  GNN     = model(args).to(args.DEVICE)\n",
        "  print(GNN)\n",
        "  del GNN\n",
        "  # logP prediction y = logP\n",
        "  for target in ['LogP', 'TPSA', 'SAS', 'CEP']:\n",
        "\n",
        "    stage_loss = []\n",
        "\n",
        "    if target_prop: # if you use target_prop, the function works for the target_prop\n",
        "      if target_prop in ['LogP', 'TPSA', 'SAS', 'CEP']:\n",
        "        target = target_prop\n",
        "        \n",
        "        \n",
        "\n",
        "    if target == 'CEP':\n",
        "      args.epochs = 200\n",
        "      args.weight_decay = 0.0\n",
        "      whole_train_set, test_set =train_test_split(CEP_data, test_size=0.1, random_state=42)\n",
        "    else:\n",
        "      args.epochs = 100\n",
        "      args.weight_decay = 0.0\n",
        "      ZINC_data[:, 1] = set_targetY(ZINC_data[:, 1], target)\n",
        "      whole_train_set, test_set =train_test_split(ZINC_data, test_size=0.1, random_state=42)\n",
        "\n",
        "    train_set, valid_set = train_test_split(whole_train_set, test_size=0.2, random_state=42)\n",
        "\n",
        "    train_loader = DataLoader(train_set[:,1], batch_size=args.batch_size, shuffle=True)\n",
        "    valid_loader = DataLoader(valid_set[:,1], batch_size=args.batch_size, shuffle=False)\n",
        "    test_loader  = DataLoader(test_set[:,1], batch_size=args.batch_size, shuffle=False)\n",
        "    whole_train_loader = DataLoader(whole_train_set[:,1], batch_size=args.batch_size, shuffle=True)\n",
        "\n",
        "    gt = np.array([data[1].y.item() for data in valid_set]).reshape(-1,1)\n",
        "  \n",
        "    GNN     = model(args).to(args.DEVICE)\n",
        "    optimizer = args.optimizer(GNN.parameters(), lr=args.init_lr, weight_decay=args.weight_decay)\n",
        "    criterion = args.criterion()\n",
        "\n",
        "    \n",
        "    print(target)\n",
        "    for idx in range(args.epochs):\n",
        "      train_loss = train(GNN, train_loader, optimizer, criterion, args.DEVICE)\n",
        "      stage_loss.append(train_loss)\n",
        "      \n",
        "      if (idx + 1) % 10 == 0 :\n",
        "        pred = test(GNN, valid_loader, args.DEVICE)\n",
        "\n",
        "        \n",
        "        residual = np.abs(gt-pred)\n",
        "        MAE = residual.mean()\n",
        "        MAE_std = residual.std()\n",
        "\n",
        "        R2 = r2_score(gt, pred)\n",
        "\n",
        "        print(f'{idx+1:3d} epoch: MAE + std= {MAE:0.3f} + {MAE_std:0.3f}, R2={R2:0.3f}')\n",
        "    \n",
        "    del GNN, optimizer, criterion, gt\n",
        "\n",
        "    GNN     = model(args).to(args.DEVICE)\n",
        "    optimizer = args.optimizer(GNN.parameters(), lr=args.init_lr, weight_decay=args.weight_decay)\n",
        "    criterion = args.criterion()\n",
        "\n",
        "    gt = np.array([data[1].y.item() for data in test_set]).reshape(-1,1)\n",
        "\n",
        "    for idx in range(args.epochs):\n",
        "      train(GNN, whole_train_loader, optimizer, criterion, args.DEVICE)\n",
        "    \n",
        "    pred = test(GNN, test_loader, args.DEVICE)\n",
        "    \n",
        "    \n",
        "    residual = np.abs(gt-pred)\n",
        "    MAE = residual.mean()\n",
        "    MAE_std = residual.std()\n",
        "\n",
        "    R2 = r2_score(gt, pred)\n",
        "    print('='*80)\n",
        "    print(f'\\t test score {idx+1:3d} epoch: MAE + std= {MAE:0.3f} + {MAE_std:0.3f}, R2={R2:0.3f}')\n",
        "    test_results.append( (MAE, MAE_std, R2))\n",
        "    print('='*80)\n",
        "\n",
        "    loss_log.append(stage_loss)\n",
        "\n",
        "    if target_prop:\n",
        "      print(f'End, {datetime.now(timezone(timedelta(hours=9)))}')\n",
        "      return test_results, loss_log\n",
        "  \n",
        "  print(f'End, {datetime.now(timezone(timedelta(hours=9)))}')\n",
        "  return test_results #, loss_log # (5 x 3)\n",
        "      "
      ]
    },
    {
      "cell_type": "markdown",
      "metadata": {
        "id": "rSRPMbYNlS6j"
      },
      "source": [
        "# 4 Experiments"
      ]
    },
    {
      "cell_type": "markdown",
      "metadata": {
        "id": "_nwth8TvlVdg"
      },
      "source": [
        "## 4.1 Experiment 1; one-hot feature training\n",
        "**DataSet**: one-hot encodded features ( *dim = 53* )\n",
        "\n",
        "**Model**;\n",
        "> 1) torch implmentation: [GCNwithSkip, GCNwithGate, GATwithSkip, GATwithGate]\n",
        "\n",
        "> 2) torch_geometric implmentation: [GIN, GCN, SAGE, modified_SAGE]"
      ]
    },
    {
      "cell_type": "code",
      "execution_count": null,
      "metadata": {
        "id": "X1YgRoep4lgZ"
      },
      "outputs": [],
      "source": [
        "from easydict import EasyDict as edict\n",
        "\n",
        "# torch.manual_seed(42)\n",
        "# torch.cuda.manual_seed(42)\n",
        "\n",
        "args = edict()\n",
        "\n",
        "args.input_dim  = 53 # 53 is for onehot-featuring \n",
        "args.hidden_dim = 32\n",
        "args.latent_dim = 512\n",
        "args.output_dim = 1\n",
        "args.mol_dim    = 0\n",
        "\n",
        "args.head_num   = 4\n",
        "args.dropout    = 0.5\n",
        "args.concat     = False\n",
        "args.aggr       = 'mean'\n",
        "\n",
        "args.batch_size = 100\n",
        "args.epochs     = 100\n",
        "args.init_lr    = 0.001\n",
        "# args.weight_decay = 0.95 # logP, TPSA, SAS\n",
        "args.weight_decay = 0.0 # logP, TPSA, SAS\n",
        "\n",
        "args.optimizer = torch.optim.Adam\n",
        "args.criterion = torch.nn.MSELoss\n",
        "\n",
        "args.DEVICE = 'cuda:0' if torch.cuda.is_available() else 'cpu'\n"
      ]
    },
    {
      "cell_type": "code",
      "execution_count": null,
      "metadata": {
        "colab": {
          "base_uri": "https://localhost:8080/",
          "height": 116,
          "referenced_widgets": [
            "1f7d6b7a6c774b4ca13f0b948bacf55e",
            "c1c78e8accb74cd3bf403114307873fb",
            "f26db0ffa5054ebea183695dd48e2b44",
            "202341604f794e9fa05856330484e498",
            "a830314120f0413996563b2392706b29",
            "85071653a15a423097b54835acf36f6b",
            "77a572292ae54b98a777cc1b049bc4a8",
            "c274a0585031453680cec651bfeba64c",
            "8431f39590974ae89202aa87f0fdc4b3",
            "0d5b7f8bcf704360a760de5aa2fe0224",
            "9b5e199511084b0a8a51e6a6b71847e3",
            "4c86ea4e23a14e35b40066730d976490",
            "36c6dd611f1946edbd182a1c7ab4dcd4",
            "b35b5a7855094a87855b147d96ffe1eb",
            "48e225c6394b40a696a60c969e67405f",
            "abc0096871194edba867066d401c4eb0",
            "0bd64130ea074eedb13b2401b2e7b8a7",
            "452fa5f1acc2436f91079ab16be3f603",
            "04867e534e684be38e55507a38341988",
            "858ef55884b84cbcab827f2030db8977",
            "6a391f90012b4e11ac23092331af56ca",
            "a52dd7a9233045609e18b136fff78582"
          ]
        },
        "id": "AJdnpU8klckx",
        "outputId": "368eaeef-ef68-4f87-e218-f2c1d91453a9"
      },
      "outputs": [
        {
          "output_type": "stream",
          "name": "stdout",
          "text": [
            "# of SMILES data: 329464\n"
          ]
        },
        {
          "output_type": "display_data",
          "data": {
            "text/plain": [
              "  0%|          | 0/10000 [00:00<?, ?it/s]"
            ],
            "application/vnd.jupyter.widget-view+json": {
              "version_major": 2,
              "version_minor": 0,
              "model_id": "1f7d6b7a6c774b4ca13f0b948bacf55e"
            }
          },
          "metadata": {}
        },
        {
          "output_type": "stream",
          "name": "stdout",
          "text": [
            "# of SMILES data: 29978\n"
          ]
        },
        {
          "output_type": "display_data",
          "data": {
            "text/plain": [
              "0it [00:00, ?it/s]"
            ],
            "application/vnd.jupyter.widget-view+json": {
              "version_major": 2,
              "version_minor": 0,
              "model_id": "4c86ea4e23a14e35b40066730d976490"
            }
          },
          "metadata": {}
        }
      ],
      "source": [
        "ZINC_data =load_ZINCdataset1('/content/ZINC_smiles.txt')\n",
        "CEP_data  =load_CEPdataset1('/content/CEP_smiles.txt', '/content/CEP_pve.npy')"
      ]
    },
    {
      "cell_type": "markdown",
      "metadata": {
        "id": "ZN-2XD3uluPf"
      },
      "source": [
        "### 1) PyTorch implmentation\n",
        "1. GCNwithSkip\n",
        "2. GCNwithGate\n",
        "3. GATwithSkip\n",
        "4. GATwithGate"
      ]
    },
    {
      "cell_type": "code",
      "execution_count": null,
      "metadata": {
        "id": "cMGqBJ8K5gHv"
      },
      "outputs": [],
      "source": [
        "results_GCNwithSkip = run_training(GCNwithSkip, args, ZINC_data, CEP_data)\n",
        "results_GCNwithSkip"
      ]
    },
    {
      "cell_type": "code",
      "execution_count": null,
      "metadata": {
        "id": "NCvdp9EeA8BI"
      },
      "outputs": [],
      "source": [
        "results_GCNwithGate = run_training(GCNwithGate, args, ZINC_data, CEP_data)\n",
        "results_GCNwithGate "
      ]
    },
    {
      "cell_type": "code",
      "execution_count": null,
      "metadata": {
        "colab": {
          "background_save": true
        },
        "id": "2wLeNeZBATsl"
      },
      "outputs": [],
      "source": [
        "results_GATwithSkip = run_training(GATwithSkip, args, ZINC_data, CEP_data)\n",
        "results_GATwithSkip"
      ]
    },
    {
      "cell_type": "code",
      "execution_count": null,
      "metadata": {
        "id": "ZZCMjyQ801DC"
      },
      "outputs": [],
      "source": [
        "results_GATwithGate = run_training(GATwithGate, args, ZINC_data, CEP_data)\n",
        "results_GATwithGate"
      ]
    },
    {
      "cell_type": "markdown",
      "metadata": {
        "id": "K1Ss0-z8l15l"
      },
      "source": [
        "### 2) Torch Geometric (PyG) implmentations\n",
        "1. Graph Isomorphic Networks (GIN)\n",
        "2. Graph Convolutional Networks (GCN)\n",
        "3. Graph SAmple and aggreGatE (SAGE) - the mean aggreator version\n",
        "4. modified SAGE - we implemented this model"
      ]
    },
    {
      "cell_type": "code",
      "execution_count": null,
      "metadata": {
        "id": "WYpYP9U9TGxu"
      },
      "outputs": [],
      "source": [
        "results_GIN = run_training(GIN, args, ZINC_data, CEP_data)\n",
        "results_GIN"
      ]
    },
    {
      "cell_type": "code",
      "execution_count": null,
      "metadata": {
        "id": "7wUoYqzaXBY-"
      },
      "outputs": [],
      "source": [
        "results_GCN = run_training(GCN, args, ZINC_data, CEP_data)\n",
        "results_GCN"
      ]
    },
    {
      "cell_type": "code",
      "execution_count": null,
      "metadata": {
        "id": "8T9NMRbeTjSI"
      },
      "outputs": [],
      "source": [
        "results_SAGE = run_training(SAGE, args, ZINC_data, CEP_data)\n",
        "results_SAGE"
      ]
    },
    {
      "cell_type": "code",
      "execution_count": null,
      "metadata": {
        "id": "irEbuw05mAyl"
      },
      "outputs": [],
      "source": [
        "results_mSAGE = run_training(modified_SAGE, args, ZINC_data, CEP_data)\n",
        "results_mSAGE "
      ]
    },
    {
      "cell_type": "markdown",
      "metadata": {
        "id": "Dlt7-kb86O_0"
      },
      "source": [
        "## 4.2 Experiment 2; atomic feature training\n",
        "**DataSet**: atomic feature values *( dim = 15 )*\n",
        "\n",
        "**Model**;\n",
        "**Model**;\n",
        "> 1) torch implmentation: [GCNwithSkip, GCNwithGate, GATwithSkip, GATwithGate]\n",
        "\n",
        "> 2) torch_geometric implmentation: [GIN, GCN, SAGE, modified_SAGE]"
      ]
    },
    {
      "cell_type": "code",
      "execution_count": null,
      "metadata": {
        "id": "-uYp-AyV7Zzp"
      },
      "outputs": [],
      "source": [
        "args.input_dim  = 15 # 16 is for atomic f\n",
        "args.hidden_dim = 256 # \n",
        "args.latent_dim = 512\n",
        "args.output_dim = 1\n",
        "args.mol_dim    = 0\n",
        "\n",
        "args.head_num   = 4\n",
        "args.dropout    = 0.5\n",
        "\n",
        "args.batch_size = 100\n",
        "args.epochs     = 100\n",
        "args.init_lr    = 0.001\n",
        "args.weight_decay = 0.0 # logP, TPSA, SAS\n",
        "\n",
        "args.optimizer = torch.optim.Adam\n",
        "args.criterion = torch.nn.MSELoss\n",
        "\n",
        "args.DEVICE = 'cuda:0' if torch.cuda.is_available() else 'cpu'\n"
      ]
    },
    {
      "cell_type": "code",
      "execution_count": null,
      "metadata": {
        "colab": {
          "base_uri": "https://localhost:8080/",
          "height": 116,
          "referenced_widgets": [
            "0a8aa81494f04bf396be54351777b5c9",
            "647b58540b484b9c8c5ec8b936de2d55",
            "c2415d348bb44ec2b547b03eede0a09f",
            "c2e1813380504858ae018cc301d48f98",
            "c09a5dbc213f43e883e27c127cddacdf",
            "6bed37110add4b6687d6cce3beb869d4",
            "1caa79011d1b40b8b0b5f436b8acebbc",
            "7099749fbb4c475281c25bad728dec65",
            "0860be9479244cb78bc7a969e6644665",
            "21cd263b4765493799248d03519ab4d4",
            "df0e96fd697b40c6a20b4e924e86eb16",
            "b4b993d7b1414be882fad6765ae1e0a0",
            "28395243362142fd9b062b4926162d5b",
            "9f48a9bbed89463b8f39c114c4fdb8a0",
            "4320b904b5254ed39615d89af9b4c3ad",
            "6bed45136daa454ea030e37e4c1fbf58",
            "a4a94fabd8494ea593bd8f14db02c664",
            "2afb46c5a32142b3b9c7d304d0c5b7e3",
            "7f68706aded2422c973dece0569fb43d",
            "b46201547885448aafa1fe624e18e32d",
            "91af5ff85f994a8eb92d691f4f7c049c",
            "d335819d85be4ac198e30a874eb0184e"
          ]
        },
        "id": "YCnEftwF7rwd",
        "outputId": "1235388f-def7-4f7a-f469-c95a633a4767"
      },
      "outputs": [
        {
          "output_type": "stream",
          "name": "stdout",
          "text": [
            "# of SMILES data: 500000\n"
          ]
        },
        {
          "output_type": "display_data",
          "data": {
            "text/plain": [
              "  0%|          | 0/10000 [00:00<?, ?it/s]"
            ],
            "application/vnd.jupyter.widget-view+json": {
              "version_major": 2,
              "version_minor": 0,
              "model_id": "0a8aa81494f04bf396be54351777b5c9"
            }
          },
          "metadata": {}
        },
        {
          "output_type": "stream",
          "name": "stdout",
          "text": [
            "# of SMILES data: 29978\n"
          ]
        },
        {
          "output_type": "display_data",
          "data": {
            "text/plain": [
              "0it [00:00, ?it/s]"
            ],
            "application/vnd.jupyter.widget-view+json": {
              "version_major": 2,
              "version_minor": 0,
              "model_id": "b4b993d7b1414be882fad6765ae1e0a0"
            }
          },
          "metadata": {}
        }
      ],
      "source": [
        "ZINC_data2 =load_ZINCdataset2('/content/ZINC_smiles.txt')\n",
        "CEP_data2  =load_CEPdataset2('/content/CEP_smiles.txt', '/content/CEP_pve.npy')"
      ]
    },
    {
      "cell_type": "markdown",
      "metadata": {
        "id": "dFJiGda8mYrX"
      },
      "source": [
        "### 1) PyTorch implmentation\n",
        "1. GCNwithSkip\n",
        "2. GCNwithGate\n",
        "3. GATwithSkip\n",
        "4. GATwithGate"
      ]
    },
    {
      "cell_type": "code",
      "execution_count": null,
      "metadata": {
        "id": "e1WAQxNzmIVj"
      },
      "outputs": [],
      "source": [
        "results_GCNwithSkip2 = run_training(GCNwithSkip, args, ZINC_data2, CEP_data2)\n",
        "results_GCNwithSkip2"
      ]
    },
    {
      "cell_type": "code",
      "execution_count": null,
      "metadata": {
        "id": "CuX9PSQymKAT"
      },
      "outputs": [],
      "source": [
        "results_GCNwithGate2 = run_training(GCNwithGate, args, ZINC_data2, CEP_data2)\n",
        "results_GCNwithGate2"
      ]
    },
    {
      "cell_type": "code",
      "execution_count": null,
      "metadata": {
        "id": "h-ST09g2mN_r"
      },
      "outputs": [],
      "source": [
        "results_GATwithSkip2 = run_training(GATwithSkip, args, ZINC_data2, CEP_data2)\n",
        "results_GATwithSkip2"
      ]
    },
    {
      "cell_type": "code",
      "execution_count": null,
      "metadata": {
        "id": "ayXKcQFfmNDa"
      },
      "outputs": [],
      "source": [
        "results_GATwithGate2 = run_training(GATwithGate, args, ZINC_data2, CEP_data2)\n",
        "results_GATwithGate2"
      ]
    },
    {
      "cell_type": "markdown",
      "metadata": {
        "id": "F07lwcqQmbFS"
      },
      "source": [
        "### 2) Torch Geometric (PyG) implmentations\n",
        "1. Graph Isomorphic Networks (GIN)\n",
        "2. Graph Convolutional Networks (GCN)\n",
        "3. Graph SAmple and aggreGatE (SAGE) - the mean aggreator version\n",
        "4. modified SAGE - we implemented this model"
      ]
    },
    {
      "cell_type": "code",
      "execution_count": null,
      "metadata": {
        "id": "w1Q4oGJ_76gA"
      },
      "outputs": [],
      "source": [
        "results_GCN = run_training(GCN, args, ZINC_data2, CEP_data2)\n",
        "results_GCN"
      ]
    },
    {
      "cell_type": "code",
      "execution_count": null,
      "metadata": {
        "id": "4YksKpQs-j5b"
      },
      "outputs": [],
      "source": [
        "results_GIN = run_training(GIN, args, ZINC_data2, CEP_data2)\n",
        "results_GIN"
      ]
    },
    {
      "cell_type": "code",
      "execution_count": null,
      "metadata": {
        "id": "2jK1ZZL79orH"
      },
      "outputs": [],
      "source": [
        "results_SAGE = run_training(SAGE, args, ZINC_data2, CEP_data2)\n",
        "results_SAGE"
      ]
    },
    {
      "cell_type": "code",
      "execution_count": null,
      "metadata": {
        "id": "64OfZkSF-oUz"
      },
      "outputs": [],
      "source": [
        "results_mSAGE = run_training(modified_SAGE, args, ZINC_data2, CEP_data2)\n",
        "results_mSAGE"
      ]
    },
    {
      "cell_type": "markdown",
      "metadata": {
        "id": "jb1A9wd0Pl4D"
      },
      "source": [
        "## 4.3 Experiment 3; training with atomic and molecular features\n",
        "**DataSet**: atomic feature *( dim = 15 )* and molecular feature *( dim = 19)* values\n",
        "\n",
        "\n",
        "**Model**;\n",
        "> 1) torch implmentation: [GCNwithSkip, GCNwithGate, GATwithSkip, GATwithGate]\n",
        "\n",
        "> 2) torch_geometric implmentation: [GIN, GCN, SAGE, modified_SAGE]"
      ]
    },
    {
      "cell_type": "code",
      "execution_count": null,
      "metadata": {
        "id": "jqSf8eZzPkEt"
      },
      "outputs": [],
      "source": [
        "args.input_dim  = 15 # 15 is for atomic f\n",
        "args.hidden_dim = 256 # \n",
        "args.output_dim = 1\n",
        "args.mol_dim    = 19 # 0 -> 19\n",
        "\n",
        "args.head_num   = 4\n",
        "args.dropout    = 0.5\n",
        "\n",
        "args.batch_size = 100\n",
        "args.epochs     = 100\n",
        "args.init_lr    = 0.001\n",
        "args.weight_decay = 0.95 # logP, TPSA, SAS\n",
        "\n",
        "args.optimizer = torch.optim.Adam\n",
        "args.criterion = torch.nn.MSELoss\n",
        "\n",
        "args.DEVICE = 'cuda:0' if torch.cuda.is_available() else 'cpu'\n"
      ]
    },
    {
      "cell_type": "markdown",
      "metadata": {
        "id": "9J26XnN-muMV"
      },
      "source": [
        "### 1) PyTorch implmentation\n",
        "1. GCNwithSkip\n",
        "2. GCNwithGate\n",
        "3. GATwithSkip\n",
        "4. GATwithGate"
      ]
    },
    {
      "cell_type": "code",
      "execution_count": null,
      "metadata": {
        "id": "kirN9_jrmwP3"
      },
      "outputs": [],
      "source": [
        "results_GCNwithSkip3 = run_training(GCNwithSkip, args, ZINC_data2, CEP_data2)\n",
        "results_GCNwithSkip3"
      ]
    },
    {
      "cell_type": "code",
      "execution_count": null,
      "metadata": {
        "id": "zOHh5p-3mwP3"
      },
      "outputs": [],
      "source": [
        "results_GCNwithGate3 = run_training(GCNwithGate, args, ZINC_data2, CEP_data2)\n",
        "results_GCNwithGate3"
      ]
    },
    {
      "cell_type": "code",
      "execution_count": null,
      "metadata": {
        "id": "hCk8Tu9NmwP4"
      },
      "outputs": [],
      "source": [
        "results_GATwithSkip3 = run_training(GATwithSkip, args, ZINC_data2, CEP_data2)\n",
        "results_GATwithSkip3"
      ]
    },
    {
      "cell_type": "code",
      "execution_count": null,
      "metadata": {
        "colab": {
          "background_save": true
        },
        "id": "rEkmRGVTmwP4"
      },
      "outputs": [],
      "source": [
        "results_GATwithGate3 = run_training(GATwithGate, args, ZINC_data2, CEP_data2)\n",
        "results_GATwithGate3"
      ]
    },
    {
      "cell_type": "markdown",
      "metadata": {
        "id": "J5rx4_Lymz_h"
      },
      "source": [
        "### 2) Torch Geometric (PyG) implmentations\n",
        "1. Graph Isomorphic Networks (GIN)\n",
        "2. Graph Convolutional Networks (GCN)\n",
        "3. Graph SAmple and aggreGatE (SAGE) - the mean aggreator version\n",
        "4. modified SAGE - we implemented this model"
      ]
    },
    {
      "cell_type": "code",
      "execution_count": null,
      "metadata": {
        "id": "FAGEAFEhm3Ai"
      },
      "outputs": [],
      "source": [
        "results_GCN = run_training(GCN, args, ZINC_data2, CEP_data2)\n",
        "results_GCN"
      ]
    },
    {
      "cell_type": "code",
      "execution_count": null,
      "metadata": {
        "id": "SgmbrJpDm3Ai"
      },
      "outputs": [],
      "source": [
        "results_GIN = run_training(GIN, args, ZINC_data2, CEP_data2)\n",
        "results_GIN"
      ]
    },
    {
      "cell_type": "code",
      "execution_count": null,
      "metadata": {
        "id": "dZflzrBZm3Ai"
      },
      "outputs": [],
      "source": [
        "results_SAGE = run_training(SAGE, args, ZINC_data2, CEP_data2)\n",
        "results_SAGE"
      ]
    },
    {
      "cell_type": "code",
      "execution_count": null,
      "metadata": {
        "id": "-QSdb5mvm3Aj"
      },
      "outputs": [],
      "source": [
        "results_mSAGE = run_training(modified_SAGE, args, ZINC_data2, CEP_data2)\n",
        "results_mSAGE"
      ]
    },
    {
      "cell_type": "markdown",
      "source": [
        "# 5 Best model, configuration, and data representation methods [Results](https://drive.google.com/file/d/1py9NTQ-XyhEV0SnzoyFWVEog6BMd5od5/view?usp=share_link)."
      ],
      "metadata": {
        "id": "Wg35PUBQgUKH"
      }
    },
    {
      "cell_type": "markdown",
      "source": [
        "## 5-1 LogP\n",
        "\n",
        "**Models**\n",
        "1. mSAGE\n",
        "2. GCN w/ Gate\n",
        "\n",
        "**Data representation method**\n",
        "1. atomic features (method 2)\n",
        "2. atomic & molecular features (method 3)"
      ],
      "metadata": {
        "id": "W0yL7faliQE7"
      }
    },
    {
      "cell_type": "code",
      "source": [
        "# the paper setting\t  SAGE(add)\n",
        "# weight_decay=0\t    global_add_pooling\n",
        "# init hidden 32, ^2\tdense connection\n",
        "# LayerNorm\t          interp mlp depth 3\n",
        "\n",
        "\n",
        "args.input_dim  = 15 # 15 is for atomic f\n",
        "args.hidden_dim = 32 # \n",
        "args.output_dim = 1\n",
        "args.mol_dim    = 0 # 0 is method 2\n",
        "\n",
        "args.head_num   = 4\n",
        "args.dropout    = 0.5\n",
        "args.concat     = True\n",
        "\n",
        "args.batch_size = 100\n",
        "args.epochs     = 100\n",
        "args.init_lr    = 0.001\n",
        "args.weight_decay = 0.0 # logP, TPSA, SAS\n",
        "\n",
        "args.optimizer = torch.optim.Adam\n",
        "args.criterion = torch.nn.MSELoss\n",
        "\n",
        "args.DEVICE = 'cuda:0' if torch.cuda.is_available() else 'cpu'\n",
        "\n",
        "\n",
        "LogP_best = run_training(modified_SAGE, args, ZINC_data2, CEP_data2)\n",
        "LogP_best"
      ],
      "metadata": {
        "id": "IRGrshEdgaZF"
      },
      "execution_count": null,
      "outputs": []
    },
    {
      "cell_type": "markdown",
      "source": [
        "## 5-2 TPSA\n",
        "\n",
        "**Models**\n",
        "1. GCN w/ Gate\n",
        "2. mSAGE\n",
        "3. GIN\n",
        "\n",
        "**Data representation method**\n",
        "1. atomic features (method 2)\n",
        "2. atomic & molecular features (method 3)"
      ],
      "metadata": {
        "id": "bHmZAkWbjA-O"
      }
    },
    {
      "cell_type": "code",
      "source": [
        "args.input_dim  = 15 \n",
        "args.hidden_dim = 32 # \n",
        "args.output_dim = 1\n",
        "args.mol_dim    = 0 # 0 is method 2\n",
        "\n",
        "args.head_num   = 4\n",
        "args.dropout    = 0.5\n",
        "args.concat     = False\n",
        "\n",
        "args.batch_size = 100\n",
        "args.epochs     = 100\n",
        "args.init_lr    = 0.001\n",
        "args.weight_decay = 0.0 # logP, TPSA, SAS\n",
        "\n",
        "args.optimizer = torch.optim.Adam\n",
        "args.criterion = torch.nn.MSELoss\n",
        "\n",
        "args.DEVICE = 'cuda:0' if torch.cuda.is_available() else 'cpu'\n",
        "\n",
        "\n",
        "TPSA_best = run_training(GCNwithGate, args, ZINC_data2, CEP_data2)\n",
        "TPSA_best"
      ],
      "metadata": {
        "id": "7nVOomTfjJyT"
      },
      "execution_count": null,
      "outputs": []
    },
    {
      "cell_type": "markdown",
      "source": [
        "## 5-3 SAS\n",
        "\n",
        "**Models**\n",
        "1. GCN w/ Gate\n",
        "2. mSAGE\n",
        "\n",
        "**Data representation method**\n",
        "1. atomic & molecular features (method 3)"
      ],
      "metadata": {
        "id": "XMZbMxd9jXV-"
      }
    },
    {
      "cell_type": "code",
      "source": [
        "args.input_dim  = 15 # 15 is for atomic f\n",
        "args.hidden_dim = 32 # \n",
        "args.output_dim = 1\n",
        "args.mol_dim    = 19 # 19 is method 3\n",
        "\n",
        "args.head_num   = 4\n",
        "args.dropout    = 0.5\n",
        "args.concat     = False\n",
        "\n",
        "args.batch_size = 100\n",
        "args.epochs     = 100\n",
        "args.init_lr    = 0.001\n",
        "args.weight_decay = 0.0 # logP, TPSA, SAS\n",
        "\n",
        "args.optimizer = torch.optim.Adam\n",
        "args.criterion = torch.nn.MSELoss\n",
        "\n",
        "args.DEVICE = 'cuda:0' if torch.cuda.is_available() else 'cpu'\n",
        "\n",
        "\n",
        "SAS_best = run_training(GCNwithGate, args, ZINC_data2, CEP_data2)\n",
        "SAS_best"
      ],
      "metadata": {
        "id": "G34fazCujhAT"
      },
      "execution_count": null,
      "outputs": []
    },
    {
      "cell_type": "markdown",
      "source": [
        "## 5-4 CEP\n",
        "\n",
        "**Models**\n",
        "1. SAGE(add)\n",
        "\n",
        "**Data representation method**\n",
        "1. one-hot encoding (mehotd 1)"
      ],
      "metadata": {
        "id": "ZwcVBOiqjo8y"
      }
    },
    {
      "cell_type": "code",
      "source": [
        "args.input_dim  = 15 \n",
        "args.hidden_dim = 32 # \n",
        "args.output_dim = 1\n",
        "args.mol_dim    = 0 # 0 is method 2\n",
        "\n",
        "args.head_num   = 4\n",
        "args.dropout    = 0.5\n",
        "args.concat     = False\n",
        "args.aggr       = 'add'\n",
        "\n",
        "args.batch_size = 100\n",
        "args.epochs     = 100\n",
        "args.init_lr    = 0.001\n",
        "args.weight_decay = 0.0 # logP, TPSA, SAS\n",
        "\n",
        "args.optimizer = torch.optim.Adam\n",
        "args.criterion = torch.nn.MSELoss\n",
        "\n",
        "args.DEVICE = 'cuda:0' if torch.cuda.is_available() else 'cpu'\n",
        "\n",
        "\n",
        "CEP_best = run_training(SAGE, args, ZINC_data, CEP_data)\n",
        "CEP_best"
      ],
      "metadata": {
        "id": "IRSpQKg7jxsk"
      },
      "execution_count": null,
      "outputs": []
    },
    {
      "cell_type": "markdown",
      "source": [
        "# 6 Plotting results"
      ],
      "metadata": {
        "id": "FcA-VgMzZK1R"
      }
    },
    {
      "cell_type": "code",
      "source": [
        "import matplotlib.pyplot as plt\n",
        "import numpy as np\n",
        "import matplotlib.patches as mpatches"
      ],
      "metadata": {
        "id": "W3P4mSo3ZQVV"
      },
      "execution_count": null,
      "outputs": []
    },
    {
      "cell_type": "code",
      "execution_count": null,
      "metadata": {
        "id": "-onJA-r9AUn8"
      },
      "outputs": [],
      "source": [
        "def plot_result(results,std,models,tests,title):\n",
        "\n",
        "  if (len(models)<5):\n",
        "    bar_width = 0.2\n",
        "    fig_length = 12\n",
        "  else:\n",
        "    bar_width = 0.1\n",
        "    fig_length = 16                 \n",
        "  \n",
        "  fig = plt.subplots(figsize = (fig_length, 8))   \n",
        "  colors = ['red', 'green' ,'blue','magenta', 'cyan','lime']   # 최대 6개 모델까지 플롯 가능\n",
        "  bars =[]\n",
        "\n",
        "  for b in range(len(models)):\n",
        "    if b == 0:\n",
        "      bars.append(np.arange(len(tests)))\n",
        "    else:\n",
        "      bars.append([j + bar_width for j in bars[b-1]])\n",
        "  \n",
        "  for b in range(len(models)):\n",
        "    plt.bar(bars[b], results[b], yerr = std[b] if std is not None else None,capsize=4,\n",
        "            color = colors[b], width = bar_width, label = models[b])\n",
        "\n",
        "  plt.xticks([x + 0.3 for x in range(len(tests))], tests)\n",
        "  plt.title(title)\n",
        "  plt.legend()\n",
        "  plt.grid()\n",
        "  plt.savefig(title+'.png')\n",
        "  plt.show()\n",
        "\n",
        "  return\n",
        "\n",
        "def reproduce_result(results,std,models,tests,title):\n",
        "              \n",
        "  fig, axs = plt.subplots(2, 2)   \n",
        "  colors = ['red', 'green' ,'blue','magenta', 'cyan','lime']   # 최대 6개 모델까지 플롯 가능\n",
        "  bars =[1,2,3,4,5,6]\n",
        "  cnt = 0\n",
        "  for i in range(2):\n",
        "    for j in range(2):\n",
        "      axs[i,j].bar(bars, results[:,cnt], yerr = std[:,cnt] if std is not None else None, capsize=4, color = colors, width = 0.5)\n",
        "      axs[i,j].set_title(tests[cnt])\n",
        "      axs[i,j].set_xticks([])\n",
        "      cnt += 1\n",
        "\n",
        "  red_patch = mpatches.Patch(color=colors[0], label=models[0])\n",
        "  green_patch = mpatches.Patch(color=colors[1], label=models[1])\n",
        "  blue_patch = mpatches.Patch(color=colors[2], label=models[2])\n",
        "  magenta_patch = mpatches.Patch(color=colors[3], label=models[3])\n",
        "  cyan_patch = mpatches.Patch(color=colors[4], label=models[4])\n",
        "  lime_patch = mpatches.Patch(color=colors[5], label=models[5])\n",
        "\n",
        "\n",
        "  fig.set_figwidth(8)\n",
        "  fig.set_figheight(5)\n",
        "\n",
        "  fig.legend(handles=[red_patch, blue_patch, green_patch, magenta_patch,cyan_patch,lime_patch], ncol=3, loc = 'lower center')\n",
        "\n",
        "  plt.savefig(title+'.png')\n",
        "  plt.show()\n",
        "\n",
        "  return"
      ]
    },
    {
      "cell_type": "code",
      "source": [
        "# reproducing result\n",
        "results_GCNwithSkip = [(0.6166293261260726, 0.5012465342240553, 0.6798086941231027),\n",
        "  (3.123841670513153, 1.9229357566476681, 0.9771581300121474),\n",
        "  (0.4566685426235199, 0.38176111535913365, 0.16288920496843073),\n",
        "  (1.416832413024269, 1.3559255965989536, 0.3640986319927292)]\n",
        "results_GATwithSkip = [(0.5024369121082127, 0.4731668722585642, 0.7584774081333215),\n",
        "  (1.302907163143158, 1.2208238824025717, 0.9945883614881497),\n",
        "  (0.4033867183923721, 0.39476022216290974, 0.2473149338182543),\n",
        "  (1.3524516127770767, 1.3011506240314594, 0.41764171750160395)]\n",
        "results_GCNwithGate = [(0.9207081522531807, 0.6513143019226706, 0.3550771719023902),\n",
        "  (1.8465101370811463, 1.5876346498614624, 0.9899334283490606),\n",
        "  (0.4910830628871918, 0.46943875621386655, -0.09051539585772717),\n",
        "  (1.5879969605868682, 1.4079089362485044, 0.2553038686005694)]\n",
        "results_GATwithGate = [(0.6622493265457451, 0.5415031596108765, 0.6289415084849104),\n",
        "  (2.198291628360748, 1.6069998796173266, 0.9874130418031823),\n",
        "  (0.5321858634948731, 0.3973172310672965, -0.042190133829330234),\n",
        "  (1.3542295647924767, 1.2845905687175299, 0.42392602661844103)]\n",
        "\n",
        "\n",
        "results_GIN = [(0.44019981639739125, 0.36192257208181355, 0.8353287762643447),\t\t\t\t\n",
        "(4.742474989652633, 2.62750037766745, 0.9501018583305794),\t\t\t\t\n",
        "(0.41891642987728117, 0.3759981971762482, 0.25131009233123947),\t\t\t\t\n",
        "(1.1718845976060257, 1.1661928419236334, 0.5480642709963991)]\n",
        "results_SAGE = [(0.7094178589656949, 0.5473608267427135, 0.5929016051149278),\n",
        "(7.294617097347975, 6.726925177500518, 0.8328577089297591),\n",
        "(0.3040392483472824, 0.2704052964175001, 0.6088175504359759),\n",
        "(1.1845211815899237, 1.386976218165898, 0.4499373519021631)]\n",
        "\n",
        "\n",
        "rearranged_results_GCNwithSkip = np.array([list(x) for x in results_GCNwithSkip])\n",
        "rearranged_results_GCNwithGate = np.array([list(x) for x in results_GCNwithGate])\n",
        "rearranged_results_GATwithSkip = np.array([list(x) for x in results_GATwithSkip])\n",
        "rearranged_results_GATwithGate = np.array([list(x) for x in results_GATwithGate])\n",
        "rearranged_results_GIN = np.array([list(x) for x in results_GIN])\n",
        "rearranged_results_SAGE = np.array([list(x) for x in results_SAGE])"
      ],
      "metadata": {
        "id": "xZPoIF_mZeAh"
      },
      "execution_count": null,
      "outputs": []
    },
    {
      "cell_type": "code",
      "source": [
        "title = 'One-hot feature training; MAE; Reproduce'\n",
        "MAE_results = np.array([rearranged_results_GCNwithSkip[:,0],rearranged_results_GATwithSkip[:,0],rearranged_results_GCNwithGate[:,0],rearranged_results_GATwithGate[:,0],rearranged_results_GIN[:,0],rearranged_results_SAGE[:,0]])\n",
        "std = np.array([0.1*rearranged_results_GCNwithSkip[:,1],0.1*rearranged_results_GATwithSkip[:,1],0.1*rearranged_results_GCNwithGate[:,1],0.1*rearranged_results_GATwithGate[:,1],0.1*rearranged_results_GIN[:,1],0.1*rearranged_results_SAGE[:,1]])\n",
        "models = ['GCNwithSkip', 'GATwithSkip', 'GCNwithGate', 'GATwithGate','GIN','SAGE']\n",
        "tests = ['logP', 'TPSA', 'SAS', 'PVE']\n",
        "reproduce_result(MAE_results, std, models, tests,title)"
      ],
      "metadata": {
        "id": "tZVwmBDnZjuu",
        "colab": {
          "base_uri": "https://localhost:8080/",
          "height": 359
        },
        "outputId": "6b375652-b930-4e8c-eb1d-8a4f856dc4e8"
      },
      "execution_count": null,
      "outputs": [
        {
          "output_type": "display_data",
          "data": {
            "text/plain": [
              "<Figure size 576x360 with 4 Axes>"
            ],
            "image/png": "[encoded data removed]"
          },
          "metadata": {
            "needs_background": "light"
          }
        }
      ]
    },
    {
      "cell_type": "code",
      "source": [
        "title = 'One-hot feature training; R2; Reproduce'\n",
        "R2_results = np.array([rearranged_results_GCNwithSkip[:,2],rearranged_results_GATwithSkip[:,2],rearranged_results_GCNwithGate[:,2],rearranged_results_GATwithGate[:,2],rearranged_results_GIN[:,2],rearranged_results_SAGE[:,2]])\n",
        "std = None\n",
        "models = ['GCNwithSkip', 'GATwithSkip', 'GCNwithGate', 'GATwithGate','GIN','SAGE']\n",
        "tests = ['logP', 'TPSA', 'SAS', 'PVE']\n",
        "reproduce_result(R2_results, std, models, tests,title)"
      ],
      "metadata": {
        "colab": {
          "base_uri": "https://localhost:8080/",
          "height": 359
        },
        "id": "6n03rfEmlKj4",
        "outputId": "b938b61d-5f7c-4b2b-fdcf-4823bb37b6ac"
      },
      "execution_count": null,
      "outputs": [
        {
          "output_type": "display_data",
          "data": {
            "text/plain": [
              "<Figure size 576x360 with 4 Axes>"
            ],
            "image/png": "[encoded data removed]"
          },
          "metadata": {
            "needs_background": "light"
          }
        }
      ]
    },
    {
      "cell_type": "code",
      "source": [
        "title = 'One-hot feature training; MAE; ALL'\n",
        "MAE_results = [rearranged_results_GCNwithSkip[:,0],rearranged_results_GCNwithGate[:,0],rearranged_results_GATwithSkip[:,0],rearranged_results_GATwithGate[:,0], rearranged_results_GIN[:,0], rearranged_results_SAGE[:,0]]\n",
        "std = [0.1*rearranged_results_GCNwithSkip[:,1],0.1*rearranged_results_GCNwithGate[:,1],0.1*rearranged_results_GATwithSkip[:,1],0.1*rearranged_results_GATwithGate[:,1], 0.1*rearranged_results_GIN[:,1], 0.1*rearranged_results_SAGE[:,1]]\n",
        "models = ['GCNwithSkip', 'GCNwithGate', 'GATwithSkip', 'GATwithGate','GIN','SAGE']\n",
        "tests = ['logP', 'TPSA', 'SAS', 'CEP']\n",
        "plot_result(MAE_results, std, models, tests,title)"
      ],
      "metadata": {
        "id": "g2yPRAPTZmtP",
        "colab": {
          "base_uri": "https://localhost:8080/",
          "height": 499
        },
        "outputId": "720bb2fd-f9fb-4852-cde9-d3806ce8056b"
      },
      "execution_count": null,
      "outputs": [
        {
          "output_type": "display_data",
          "data": {
            "text/plain": [
              "<Figure size 1152x576 with 1 Axes>"
            ],
            "image/png": "[encoded data removed]"
          },
          "metadata": {
            "needs_background": "light"
          }
        }
      ]
    },
    {
      "cell_type": "code",
      "source": [
        "title = 'One-hot feature training; R2; ALL'\n",
        "R2_results = [rearranged_results_GCNwithSkip[:,2], rearranged_results_GCNwithGate[:,2], rearranged_results_GATwithSkip[:,2], rearranged_results_GATwithGate[:,2], rearranged_results_GIN[:,2], rearranged_results_SAGE[:,2]]\n",
        "std = None\n",
        "models = ['GCNwithSkip', 'GCNwithGate', 'GATwithSkip', 'GATwithGate','GIN','SAGE']\n",
        "tests = ['logP', 'TPSA', 'SAS', 'CEP']\n",
        "plot_result(R2_results, std, models, tests, title)"
      ],
      "metadata": {
        "id": "eZQqZ8GnZsDJ",
        "colab": {
          "base_uri": "https://localhost:8080/",
          "height": 499
        },
        "outputId": "0ecadb33-3700-4052-d9a4-b6a2ed7e1f70"
      },
      "execution_count": null,
      "outputs": [
        {
          "output_type": "display_data",
          "data": {
            "text/plain": [
              "<Figure size 1152x576 with 1 Axes>"
            ],
            "image/png": "[encoded data removed]"
          },
          "metadata": {
            "needs_background": "light"
          }
        }
      ]
    }
  ],
  "metadata": {
    "accelerator": "GPU",
    "colab": {
      "machine_shape": "hm",
      "provenance": [],
      "collapsed_sections": [
        "9IYL64iuLpDl",
        "gX0U4rt9f69b",
        "7EUON32yLvfL",
        "Mr6DQHIBlIZr",
        "xAQ5mSk3lO3w",
        "rSRPMbYNlS6j",
        "ZN-2XD3uluPf",
        "K1Ss0-z8l15l",
        "dFJiGda8mYrX",
        "F07lwcqQmbFS",
        "9J26XnN-muMV",
        "Wg35PUBQgUKH",
        "bHmZAkWbjA-O",
        "XMZbMxd9jXV-",
        "ZwcVBOiqjo8y",
        "FcA-VgMzZK1R"
      ]
    },
    "gpuClass": "premium",
    "kernelspec": {
      "display_name": "Python 3",
      "name": "python3"
    },
    "language_info": {
      "name": "python"
    },
    "widgets": {
      "application/vnd.jupyter.widget-state+json": {
        "1f7d6b7a6c774b4ca13f0b948bacf55e": {
          "model_module": "@jupyter-widgets/controls",
          "model_name": "HBoxModel",
          "model_module_version": "1.5.0",
          "state": {
            "_dom_classes": [],
            "_model_module": "@jupyter-widgets/controls",
            "_model_module_version": "1.5.0",
            "_model_name": "HBoxModel",
            "_view_count": null,
            "_view_module": "@jupyter-widgets/controls",
            "_view_module_version": "1.5.0",
            "_view_name": "HBoxView",
            "box_style": "",
            "children": [
              "IPY_MODEL_c1c78e8accb74cd3bf403114307873fb",
              "IPY_MODEL_f26db0ffa5054ebea183695dd48e2b44",
              "IPY_MODEL_202341604f794e9fa05856330484e498"
            ],
            "layout": "IPY_MODEL_a830314120f0413996563b2392706b29"
          }
        },
        "c1c78e8accb74cd3bf403114307873fb": {
          "model_module": "@jupyter-widgets/controls",
          "model_name": "HTMLModel",
          "model_module_version": "1.5.0",
          "state": {
            "_dom_classes": [],
            "_model_module": "@jupyter-widgets/controls",
            "_model_module_version": "1.5.0",
            "_model_name": "HTMLModel",
            "_view_count": null,
            "_view_module": "@jupyter-widgets/controls",
            "_view_module_version": "1.5.0",
            "_view_name": "HTMLView",
            "description": "",
            "description_tooltip": null,
            "layout": "IPY_MODEL_85071653a15a423097b54835acf36f6b",
            "placeholder": "​",
            "style": "IPY_MODEL_77a572292ae54b98a777cc1b049bc4a8",
            "value": "100%"
          }
        },
        "f26db0ffa5054ebea183695dd48e2b44": {
          "model_module": "@jupyter-widgets/controls",
          "model_name": "FloatProgressModel",
          "model_module_version": "1.5.0",
          "state": {
            "_dom_classes": [],
            "_model_module": "@jupyter-widgets/controls",
            "_model_module_version": "1.5.0",
            "_model_name": "FloatProgressModel",
            "_view_count": null,
            "_view_module": "@jupyter-widgets/controls",
            "_view_module_version": "1.5.0",
            "_view_name": "ProgressView",
            "bar_style": "success",
            "description": "",
            "description_tooltip": null,
            "layout": "IPY_MODEL_c274a0585031453680cec651bfeba64c",
            "max": 10000,
            "min": 0,
            "orientation": "horizontal",
            "style": "IPY_MODEL_8431f39590974ae89202aa87f0fdc4b3",
            "value": 10000
          }
        },
        "202341604f794e9fa05856330484e498": {
          "model_module": "@jupyter-widgets/controls",
          "model_name": "HTMLModel",
          "model_module_version": "1.5.0",
          "state": {
            "_dom_classes": [],
            "_model_module": "@jupyter-widgets/controls",
            "_model_module_version": "1.5.0",
            "_model_name": "HTMLModel",
            "_view_count": null,
            "_view_module": "@jupyter-widgets/controls",
            "_view_module_version": "1.5.0",
            "_view_name": "HTMLView",
            "description": "",
            "description_tooltip": null,
            "layout": "IPY_MODEL_0d5b7f8bcf704360a760de5aa2fe0224",
            "placeholder": "​",
            "style": "IPY_MODEL_9b5e199511084b0a8a51e6a6b71847e3",
            "value": " 10000/10000 [00:50&lt;00:00, 212.34it/s]"
          }
        },
        "a830314120f0413996563b2392706b29": {
          "model_module": "@jupyter-widgets/base",
          "model_name": "LayoutModel",
          "model_module_version": "1.2.0",
          "state": {
            "_model_module": "@jupyter-widgets/base",
            "_model_module_version": "1.2.0",
            "_model_name": "LayoutModel",
            "_view_count": null,
            "_view_module": "@jupyter-widgets/base",
            "_view_module_version": "1.2.0",
            "_view_name": "LayoutView",
            "align_content": null,
            "align_items": null,
            "align_self": null,
            "border": null,
            "bottom": null,
            "display": null,
            "flex": null,
            "flex_flow": null,
            "grid_area": null,
            "grid_auto_columns": null,
            "grid_auto_flow": null,
            "grid_auto_rows": null,
            "grid_column": null,
            "grid_gap": null,
            "grid_row": null,
            "grid_template_areas": null,
            "grid_template_columns": null,
            "grid_template_rows": null,
            "height": null,
            "justify_content": null,
            "justify_items": null,
            "left": null,
            "margin": null,
            "max_height": null,
            "max_width": null,
            "min_height": null,
            "min_width": null,
            "object_fit": null,
            "object_position": null,
            "order": null,
            "overflow": null,
            "overflow_x": null,
            "overflow_y": null,
            "padding": null,
            "right": null,
            "top": null,
            "visibility": null,
            "width": null
          }
        },
        "85071653a15a423097b54835acf36f6b": {
          "model_module": "@jupyter-widgets/base",
          "model_name": "LayoutModel",
          "model_module_version": "1.2.0",
          "state": {
            "_model_module": "@jupyter-widgets/base",
            "_model_module_version": "1.2.0",
            "_model_name": "LayoutModel",
            "_view_count": null,
            "_view_module": "@jupyter-widgets/base",
            "_view_module_version": "1.2.0",
            "_view_name": "LayoutView",
            "align_content": null,
            "align_items": null,
            "align_self": null,
            "border": null,
            "bottom": null,
            "display": null,
            "flex": null,
            "flex_flow": null,
            "grid_area": null,
            "grid_auto_columns": null,
            "grid_auto_flow": null,
            "grid_auto_rows": null,
            "grid_column": null,
            "grid_gap": null,
            "grid_row": null,
            "grid_template_areas": null,
            "grid_template_columns": null,
            "grid_template_rows": null,
            "height": null,
            "justify_content": null,
            "justify_items": null,
            "left": null,
            "margin": null,
            "max_height": null,
            "max_width": null,
            "min_height": null,
            "min_width": null,
            "object_fit": null,
            "object_position": null,
            "order": null,
            "overflow": null,
            "overflow_x": null,
            "overflow_y": null,
            "padding": null,
            "right": null,
            "top": null,
            "visibility": null,
            "width": null
          }
        },
        "77a572292ae54b98a777cc1b049bc4a8": {
          "model_module": "@jupyter-widgets/controls",
          "model_name": "DescriptionStyleModel",
          "model_module_version": "1.5.0",
          "state": {
            "_model_module": "@jupyter-widgets/controls",
            "_model_module_version": "1.5.0",
            "_model_name": "DescriptionStyleModel",
            "_view_count": null,
            "_view_module": "@jupyter-widgets/base",
            "_view_module_version": "1.2.0",
            "_view_name": "StyleView",
            "description_width": ""
          }
        },
        "c274a0585031453680cec651bfeba64c": {
          "model_module": "@jupyter-widgets/base",
          "model_name": "LayoutModel",
          "model_module_version": "1.2.0",
          "state": {
            "_model_module": "@jupyter-widgets/base",
            "_model_module_version": "1.2.0",
            "_model_name": "LayoutModel",
            "_view_count": null,
            "_view_module": "@jupyter-widgets/base",
            "_view_module_version": "1.2.0",
            "_view_name": "LayoutView",
            "align_content": null,
            "align_items": null,
            "align_self": null,
            "border": null,
            "bottom": null,
            "display": null,
            "flex": null,
            "flex_flow": null,
            "grid_area": null,
            "grid_auto_columns": null,
            "grid_auto_flow": null,
            "grid_auto_rows": null,
            "grid_column": null,
            "grid_gap": null,
            "grid_row": null,
            "grid_template_areas": null,
            "grid_template_columns": null,
            "grid_template_rows": null,
            "height": null,
            "justify_content": null,
            "justify_items": null,
            "left": null,
            "margin": null,
            "max_height": null,
            "max_width": null,
            "min_height": null,
            "min_width": null,
            "object_fit": null,
            "object_position": null,
            "order": null,
            "overflow": null,
            "overflow_x": null,
            "overflow_y": null,
            "padding": null,
            "right": null,
            "top": null,
            "visibility": null,
            "width": null
          }
        },
        "8431f39590974ae89202aa87f0fdc4b3": {
          "model_module": "@jupyter-widgets/controls",
          "model_name": "ProgressStyleModel",
          "model_module_version": "1.5.0",
          "state": {
            "_model_module": "@jupyter-widgets/controls",
            "_model_module_version": "1.5.0",
            "_model_name": "ProgressStyleModel",
            "_view_count": null,
            "_view_module": "@jupyter-widgets/base",
            "_view_module_version": "1.2.0",
            "_view_name": "StyleView",
            "bar_color": null,
            "description_width": ""
          }
        },
        "0d5b7f8bcf704360a760de5aa2fe0224": {
          "model_module": "@jupyter-widgets/base",
          "model_name": "LayoutModel",
          "model_module_version": "1.2.0",
          "state": {
            "_model_module": "@jupyter-widgets/base",
            "_model_module_version": "1.2.0",
            "_model_name": "LayoutModel",
            "_view_count": null,
            "_view_module": "@jupyter-widgets/base",
            "_view_module_version": "1.2.0",
            "_view_name": "LayoutView",
            "align_content": null,
            "align_items": null,
            "align_self": null,
            "border": null,
            "bottom": null,
            "display": null,
            "flex": null,
            "flex_flow": null,
            "grid_area": null,
            "grid_auto_columns": null,
            "grid_auto_flow": null,
            "grid_auto_rows": null,
            "grid_column": null,
            "grid_gap": null,
            "grid_row": null,
            "grid_template_areas": null,
            "grid_template_columns": null,
            "grid_template_rows": null,
            "height": null,
            "justify_content": null,
            "justify_items": null,
            "left": null,
            "margin": null,
            "max_height": null,
            "max_width": null,
            "min_height": null,
            "min_width": null,
            "object_fit": null,
            "object_position": null,
            "order": null,
            "overflow": null,
            "overflow_x": null,
            "overflow_y": null,
            "padding": null,
            "right": null,
            "top": null,
            "visibility": null,
            "width": null
          }
        },
        "9b5e199511084b0a8a51e6a6b71847e3": {
          "model_module": "@jupyter-widgets/controls",
          "model_name": "DescriptionStyleModel",
          "model_module_version": "1.5.0",
          "state": {
            "_model_module": "@jupyter-widgets/controls",
            "_model_module_version": "1.5.0",
            "_model_name": "DescriptionStyleModel",
            "_view_count": null,
            "_view_module": "@jupyter-widgets/base",
            "_view_module_version": "1.2.0",
            "_view_name": "StyleView",
            "description_width": ""
          }
        },
        "4c86ea4e23a14e35b40066730d976490": {
          "model_module": "@jupyter-widgets/controls",
          "model_name": "HBoxModel",
          "model_module_version": "1.5.0",
          "state": {
            "_dom_classes": [],
            "_model_module": "@jupyter-widgets/controls",
            "_model_module_version": "1.5.0",
            "_model_name": "HBoxModel",
            "_view_count": null,
            "_view_module": "@jupyter-widgets/controls",
            "_view_module_version": "1.5.0",
            "_view_name": "HBoxView",
            "box_style": "",
            "children": [
              "IPY_MODEL_36c6dd611f1946edbd182a1c7ab4dcd4",
              "IPY_MODEL_b35b5a7855094a87855b147d96ffe1eb",
              "IPY_MODEL_48e225c6394b40a696a60c969e67405f"
            ],
            "layout": "IPY_MODEL_abc0096871194edba867066d401c4eb0"
          }
        },
        "36c6dd611f1946edbd182a1c7ab4dcd4": {
          "model_module": "@jupyter-widgets/controls",
          "model_name": "HTMLModel",
          "model_module_version": "1.5.0",
          "state": {
            "_dom_classes": [],
            "_model_module": "@jupyter-widgets/controls",
            "_model_module_version": "1.5.0",
            "_model_name": "HTMLModel",
            "_view_count": null,
            "_view_module": "@jupyter-widgets/controls",
            "_view_module_version": "1.5.0",
            "_view_name": "HTMLView",
            "description": "",
            "description_tooltip": null,
            "layout": "IPY_MODEL_0bd64130ea074eedb13b2401b2e7b8a7",
            "placeholder": "​",
            "style": "IPY_MODEL_452fa5f1acc2436f91079ab16be3f603",
            "value": ""
          }
        },
        "b35b5a7855094a87855b147d96ffe1eb": {
          "model_module": "@jupyter-widgets/controls",
          "model_name": "FloatProgressModel",
          "model_module_version": "1.5.0",
          "state": {
            "_dom_classes": [],
            "_model_module": "@jupyter-widgets/controls",
            "_model_module_version": "1.5.0",
            "_model_name": "FloatProgressModel",
            "_view_count": null,
            "_view_module": "@jupyter-widgets/controls",
            "_view_module_version": "1.5.0",
            "_view_name": "ProgressView",
            "bar_style": "success",
            "description": "",
            "description_tooltip": null,
            "layout": "IPY_MODEL_04867e534e684be38e55507a38341988",
            "max": 1,
            "min": 0,
            "orientation": "horizontal",
            "style": "IPY_MODEL_858ef55884b84cbcab827f2030db8977",
            "value": 1
          }
        },
        "48e225c6394b40a696a60c969e67405f": {
          "model_module": "@jupyter-widgets/controls",
          "model_name": "HTMLModel",
          "model_module_version": "1.5.0",
          "state": {
            "_dom_classes": [],
            "_model_module": "@jupyter-widgets/controls",
            "_model_module_version": "1.5.0",
            "_model_name": "HTMLModel",
            "_view_count": null,
            "_view_module": "@jupyter-widgets/controls",
            "_view_module_version": "1.5.0",
            "_view_name": "HTMLView",
            "description": "",
            "description_tooltip": null,
            "layout": "IPY_MODEL_6a391f90012b4e11ac23092331af56ca",
            "placeholder": "​",
            "style": "IPY_MODEL_a52dd7a9233045609e18b136fff78582",
            "value": " 10000/? [00:26&lt;00:00, 392.72it/s]"
          }
        },
        "abc0096871194edba867066d401c4eb0": {
          "model_module": "@jupyter-widgets/base",
          "model_name": "LayoutModel",
          "model_module_version": "1.2.0",
          "state": {
            "_model_module": "@jupyter-widgets/base",
            "_model_module_version": "1.2.0",
            "_model_name": "LayoutModel",
            "_view_count": null,
            "_view_module": "@jupyter-widgets/base",
            "_view_module_version": "1.2.0",
            "_view_name": "LayoutView",
            "align_content": null,
            "align_items": null,
            "align_self": null,
            "border": null,
            "bottom": null,
            "display": null,
            "flex": null,
            "flex_flow": null,
            "grid_area": null,
            "grid_auto_columns": null,
            "grid_auto_flow": null,
            "grid_auto_rows": null,
            "grid_column": null,
            "grid_gap": null,
            "grid_row": null,
            "grid_template_areas": null,
            "grid_template_columns": null,
            "grid_template_rows": null,
            "height": null,
            "justify_content": null,
            "justify_items": null,
            "left": null,
            "margin": null,
            "max_height": null,
            "max_width": null,
            "min_height": null,
            "min_width": null,
            "object_fit": null,
            "object_position": null,
            "order": null,
            "overflow": null,
            "overflow_x": null,
            "overflow_y": null,
            "padding": null,
            "right": null,
            "top": null,
            "visibility": null,
            "width": null
          }
        },
        "0bd64130ea074eedb13b2401b2e7b8a7": {
          "model_module": "@jupyter-widgets/base",
          "model_name": "LayoutModel",
          "model_module_version": "1.2.0",
          "state": {
            "_model_module": "@jupyter-widgets/base",
            "_model_module_version": "1.2.0",
            "_model_name": "LayoutModel",
            "_view_count": null,
            "_view_module": "@jupyter-widgets/base",
            "_view_module_version": "1.2.0",
            "_view_name": "LayoutView",
            "align_content": null,
            "align_items": null,
            "align_self": null,
            "border": null,
            "bottom": null,
            "display": null,
            "flex": null,
            "flex_flow": null,
            "grid_area": null,
            "grid_auto_columns": null,
            "grid_auto_flow": null,
            "grid_auto_rows": null,
            "grid_column": null,
            "grid_gap": null,
            "grid_row": null,
            "grid_template_areas": null,
            "grid_template_columns": null,
            "grid_template_rows": null,
            "height": null,
            "justify_content": null,
            "justify_items": null,
            "left": null,
            "margin": null,
            "max_height": null,
            "max_width": null,
            "min_height": null,
            "min_width": null,
            "object_fit": null,
            "object_position": null,
            "order": null,
            "overflow": null,
            "overflow_x": null,
            "overflow_y": null,
            "padding": null,
            "right": null,
            "top": null,
            "visibility": null,
            "width": null
          }
        },
        "452fa5f1acc2436f91079ab16be3f603": {
          "model_module": "@jupyter-widgets/controls",
          "model_name": "DescriptionStyleModel",
          "model_module_version": "1.5.0",
          "state": {
            "_model_module": "@jupyter-widgets/controls",
            "_model_module_version": "1.5.0",
            "_model_name": "DescriptionStyleModel",
            "_view_count": null,
            "_view_module": "@jupyter-widgets/base",
            "_view_module_version": "1.2.0",
            "_view_name": "StyleView",
            "description_width": ""
          }
        },
        "04867e534e684be38e55507a38341988": {
          "model_module": "@jupyter-widgets/base",
          "model_name": "LayoutModel",
          "model_module_version": "1.2.0",
          "state": {
            "_model_module": "@jupyter-widgets/base",
            "_model_module_version": "1.2.0",
            "_model_name": "LayoutModel",
            "_view_count": null,
            "_view_module": "@jupyter-widgets/base",
            "_view_module_version": "1.2.0",
            "_view_name": "LayoutView",
            "align_content": null,
            "align_items": null,
            "align_self": null,
            "border": null,
            "bottom": null,
            "display": null,
            "flex": null,
            "flex_flow": null,
            "grid_area": null,
            "grid_auto_columns": null,
            "grid_auto_flow": null,
            "grid_auto_rows": null,
            "grid_column": null,
            "grid_gap": null,
            "grid_row": null,
            "grid_template_areas": null,
            "grid_template_columns": null,
            "grid_template_rows": null,
            "height": null,
            "justify_content": null,
            "justify_items": null,
            "left": null,
            "margin": null,
            "max_height": null,
            "max_width": null,
            "min_height": null,
            "min_width": null,
            "object_fit": null,
            "object_position": null,
            "order": null,
            "overflow": null,
            "overflow_x": null,
            "overflow_y": null,
            "padding": null,
            "right": null,
            "top": null,
            "visibility": null,
            "width": "20px"
          }
        },
        "858ef55884b84cbcab827f2030db8977": {
          "model_module": "@jupyter-widgets/controls",
          "model_name": "ProgressStyleModel",
          "model_module_version": "1.5.0",
          "state": {
            "_model_module": "@jupyter-widgets/controls",
            "_model_module_version": "1.5.0",
            "_model_name": "ProgressStyleModel",
            "_view_count": null,
            "_view_module": "@jupyter-widgets/base",
            "_view_module_version": "1.2.0",
            "_view_name": "StyleView",
            "bar_color": null,
            "description_width": ""
          }
        },
        "6a391f90012b4e11ac23092331af56ca": {
          "model_module": "@jupyter-widgets/base",
          "model_name": "LayoutModel",
          "model_module_version": "1.2.0",
          "state": {
            "_model_module": "@jupyter-widgets/base",
            "_model_module_version": "1.2.0",
            "_model_name": "LayoutModel",
            "_view_count": null,
            "_view_module": "@jupyter-widgets/base",
            "_view_module_version": "1.2.0",
            "_view_name": "LayoutView",
            "align_content": null,
            "align_items": null,
            "align_self": null,
            "border": null,
            "bottom": null,
            "display": null,
            "flex": null,
            "flex_flow": null,
            "grid_area": null,
            "grid_auto_columns": null,
            "grid_auto_flow": null,
            "grid_auto_rows": null,
            "grid_column": null,
            "grid_gap": null,
            "grid_row": null,
            "grid_template_areas": null,
            "grid_template_columns": null,
            "grid_template_rows": null,
            "height": null,
            "justify_content": null,
            "justify_items": null,
            "left": null,
            "margin": null,
            "max_height": null,
            "max_width": null,
            "min_height": null,
            "min_width": null,
            "object_fit": null,
            "object_position": null,
            "order": null,
            "overflow": null,
            "overflow_x": null,
            "overflow_y": null,
            "padding": null,
            "right": null,
            "top": null,
            "visibility": null,
            "width": null
          }
        },
        "a52dd7a9233045609e18b136fff78582": {
          "model_module": "@jupyter-widgets/controls",
          "model_name": "DescriptionStyleModel",
          "model_module_version": "1.5.0",
          "state": {
            "_model_module": "@jupyter-widgets/controls",
            "_model_module_version": "1.5.0",
            "_model_name": "DescriptionStyleModel",
            "_view_count": null,
            "_view_module": "@jupyter-widgets/base",
            "_view_module_version": "1.2.0",
            "_view_name": "StyleView",
            "description_width": ""
          }
        },
        "0a8aa81494f04bf396be54351777b5c9": {
          "model_module": "@jupyter-widgets/controls",
          "model_name": "HBoxModel",
          "model_module_version": "1.5.0",
          "state": {
            "_dom_classes": [],
            "_model_module": "@jupyter-widgets/controls",
            "_model_module_version": "1.5.0",
            "_model_name": "HBoxModel",
            "_view_count": null,
            "_view_module": "@jupyter-widgets/controls",
            "_view_module_version": "1.5.0",
            "_view_name": "HBoxView",
            "box_style": "",
            "children": [
              "IPY_MODEL_647b58540b484b9c8c5ec8b936de2d55",
              "IPY_MODEL_c2415d348bb44ec2b547b03eede0a09f",
              "IPY_MODEL_c2e1813380504858ae018cc301d48f98"
            ],
            "layout": "IPY_MODEL_c09a5dbc213f43e883e27c127cddacdf"
          }
        },
        "647b58540b484b9c8c5ec8b936de2d55": {
          "model_module": "@jupyter-widgets/controls",
          "model_name": "HTMLModel",
          "model_module_version": "1.5.0",
          "state": {
            "_dom_classes": [],
            "_model_module": "@jupyter-widgets/controls",
            "_model_module_version": "1.5.0",
            "_model_name": "HTMLModel",
            "_view_count": null,
            "_view_module": "@jupyter-widgets/controls",
            "_view_module_version": "1.5.0",
            "_view_name": "HTMLView",
            "description": "",
            "description_tooltip": null,
            "layout": "IPY_MODEL_6bed37110add4b6687d6cce3beb869d4",
            "placeholder": "​",
            "style": "IPY_MODEL_1caa79011d1b40b8b0b5f436b8acebbc",
            "value": "100%"
          }
        },
        "c2415d348bb44ec2b547b03eede0a09f": {
          "model_module": "@jupyter-widgets/controls",
          "model_name": "FloatProgressModel",
          "model_module_version": "1.5.0",
          "state": {
            "_dom_classes": [],
            "_model_module": "@jupyter-widgets/controls",
            "_model_module_version": "1.5.0",
            "_model_name": "FloatProgressModel",
            "_view_count": null,
            "_view_module": "@jupyter-widgets/controls",
            "_view_module_version": "1.5.0",
            "_view_name": "ProgressView",
            "bar_style": "success",
            "description": "",
            "description_tooltip": null,
            "layout": "IPY_MODEL_7099749fbb4c475281c25bad728dec65",
            "max": 10000,
            "min": 0,
            "orientation": "horizontal",
            "style": "IPY_MODEL_0860be9479244cb78bc7a969e6644665",
            "value": 10000
          }
        },
        "c2e1813380504858ae018cc301d48f98": {
          "model_module": "@jupyter-widgets/controls",
          "model_name": "HTMLModel",
          "model_module_version": "1.5.0",
          "state": {
            "_dom_classes": [],
            "_model_module": "@jupyter-widgets/controls",
            "_model_module_version": "1.5.0",
            "_model_name": "HTMLModel",
            "_view_count": null,
            "_view_module": "@jupyter-widgets/controls",
            "_view_module_version": "1.5.0",
            "_view_name": "HTMLView",
            "description": "",
            "description_tooltip": null,
            "layout": "IPY_MODEL_21cd263b4765493799248d03519ab4d4",
            "placeholder": "​",
            "style": "IPY_MODEL_df0e96fd697b40c6a20b4e924e86eb16",
            "value": " 10000/10000 [06:04&lt;00:00, 25.91it/s]"
          }
        },
        "c09a5dbc213f43e883e27c127cddacdf": {
          "model_module": "@jupyter-widgets/base",
          "model_name": "LayoutModel",
          "model_module_version": "1.2.0",
          "state": {
            "_model_module": "@jupyter-widgets/base",
            "_model_module_version": "1.2.0",
            "_model_name": "LayoutModel",
            "_view_count": null,
            "_view_module": "@jupyter-widgets/base",
            "_view_module_version": "1.2.0",
            "_view_name": "LayoutView",
            "align_content": null,
            "align_items": null,
            "align_self": null,
            "border": null,
            "bottom": null,
            "display": null,
            "flex": null,
            "flex_flow": null,
            "grid_area": null,
            "grid_auto_columns": null,
            "grid_auto_flow": null,
            "grid_auto_rows": null,
            "grid_column": null,
            "grid_gap": null,
            "grid_row": null,
            "grid_template_areas": null,
            "grid_template_columns": null,
            "grid_template_rows": null,
            "height": null,
            "justify_content": null,
            "justify_items": null,
            "left": null,
            "margin": null,
            "max_height": null,
            "max_width": null,
            "min_height": null,
            "min_width": null,
            "object_fit": null,
            "object_position": null,
            "order": null,
            "overflow": null,
            "overflow_x": null,
            "overflow_y": null,
            "padding": null,
            "right": null,
            "top": null,
            "visibility": null,
            "width": null
          }
        },
        "6bed37110add4b6687d6cce3beb869d4": {
          "model_module": "@jupyter-widgets/base",
          "model_name": "LayoutModel",
          "model_module_version": "1.2.0",
          "state": {
            "_model_module": "@jupyter-widgets/base",
            "_model_module_version": "1.2.0",
            "_model_name": "LayoutModel",
            "_view_count": null,
            "_view_module": "@jupyter-widgets/base",
            "_view_module_version": "1.2.0",
            "_view_name": "LayoutView",
            "align_content": null,
            "align_items": null,
            "align_self": null,
            "border": null,
            "bottom": null,
            "display": null,
            "flex": null,
            "flex_flow": null,
            "grid_area": null,
            "grid_auto_columns": null,
            "grid_auto_flow": null,
            "grid_auto_rows": null,
            "grid_column": null,
            "grid_gap": null,
            "grid_row": null,
            "grid_template_areas": null,
            "grid_template_columns": null,
            "grid_template_rows": null,
            "height": null,
            "justify_content": null,
            "justify_items": null,
            "left": null,
            "margin": null,
            "max_height": null,
            "max_width": null,
            "min_height": null,
            "min_width": null,
            "object_fit": null,
            "object_position": null,
            "order": null,
            "overflow": null,
            "overflow_x": null,
            "overflow_y": null,
            "padding": null,
            "right": null,
            "top": null,
            "visibility": null,
            "width": null
          }
        },
        "1caa79011d1b40b8b0b5f436b8acebbc": {
          "model_module": "@jupyter-widgets/controls",
          "model_name": "DescriptionStyleModel",
          "model_module_version": "1.5.0",
          "state": {
            "_model_module": "@jupyter-widgets/controls",
            "_model_module_version": "1.5.0",
            "_model_name": "DescriptionStyleModel",
            "_view_count": null,
            "_view_module": "@jupyter-widgets/base",
            "_view_module_version": "1.2.0",
            "_view_name": "StyleView",
            "description_width": ""
          }
        },
        "7099749fbb4c475281c25bad728dec65": {
          "model_module": "@jupyter-widgets/base",
          "model_name": "LayoutModel",
          "model_module_version": "1.2.0",
          "state": {
            "_model_module": "@jupyter-widgets/base",
            "_model_module_version": "1.2.0",
            "_model_name": "LayoutModel",
            "_view_count": null,
            "_view_module": "@jupyter-widgets/base",
            "_view_module_version": "1.2.0",
            "_view_name": "LayoutView",
            "align_content": null,
            "align_items": null,
            "align_self": null,
            "border": null,
            "bottom": null,
            "display": null,
            "flex": null,
            "flex_flow": null,
            "grid_area": null,
            "grid_auto_columns": null,
            "grid_auto_flow": null,
            "grid_auto_rows": null,
            "grid_column": null,
            "grid_gap": null,
            "grid_row": null,
            "grid_template_areas": null,
            "grid_template_columns": null,
            "grid_template_rows": null,
            "height": null,
            "justify_content": null,
            "justify_items": null,
            "left": null,
            "margin": null,
            "max_height": null,
            "max_width": null,
            "min_height": null,
            "min_width": null,
            "object_fit": null,
            "object_position": null,
            "order": null,
            "overflow": null,
            "overflow_x": null,
            "overflow_y": null,
            "padding": null,
            "right": null,
            "top": null,
            "visibility": null,
            "width": null
          }
        },
        "0860be9479244cb78bc7a969e6644665": {
          "model_module": "@jupyter-widgets/controls",
          "model_name": "ProgressStyleModel",
          "model_module_version": "1.5.0",
          "state": {
            "_model_module": "@jupyter-widgets/controls",
            "_model_module_version": "1.5.0",
            "_model_name": "ProgressStyleModel",
            "_view_count": null,
            "_view_module": "@jupyter-widgets/base",
            "_view_module_version": "1.2.0",
            "_view_name": "StyleView",
            "bar_color": null,
            "description_width": ""
          }
        },
        "21cd263b4765493799248d03519ab4d4": {
          "model_module": "@jupyter-widgets/base",
          "model_name": "LayoutModel",
          "model_module_version": "1.2.0",
          "state": {
            "_model_module": "@jupyter-widgets/base",
            "_model_module_version": "1.2.0",
            "_model_name": "LayoutModel",
            "_view_count": null,
            "_view_module": "@jupyter-widgets/base",
            "_view_module_version": "1.2.0",
            "_view_name": "LayoutView",
            "align_content": null,
            "align_items": null,
            "align_self": null,
            "border": null,
            "bottom": null,
            "display": null,
            "flex": null,
            "flex_flow": null,
            "grid_area": null,
            "grid_auto_columns": null,
            "grid_auto_flow": null,
            "grid_auto_rows": null,
            "grid_column": null,
            "grid_gap": null,
            "grid_row": null,
            "grid_template_areas": null,
            "grid_template_columns": null,
            "grid_template_rows": null,
            "height": null,
            "justify_content": null,
            "justify_items": null,
            "left": null,
            "margin": null,
            "max_height": null,
            "max_width": null,
            "min_height": null,
            "min_width": null,
            "object_fit": null,
            "object_position": null,
            "order": null,
            "overflow": null,
            "overflow_x": null,
            "overflow_y": null,
            "padding": null,
            "right": null,
            "top": null,
            "visibility": null,
            "width": null
          }
        },
        "df0e96fd697b40c6a20b4e924e86eb16": {
          "model_module": "@jupyter-widgets/controls",
          "model_name": "DescriptionStyleModel",
          "model_module_version": "1.5.0",
          "state": {
            "_model_module": "@jupyter-widgets/controls",
            "_model_module_version": "1.5.0",
            "_model_name": "DescriptionStyleModel",
            "_view_count": null,
            "_view_module": "@jupyter-widgets/base",
            "_view_module_version": "1.2.0",
            "_view_name": "StyleView",
            "description_width": ""
          }
        },
        "b4b993d7b1414be882fad6765ae1e0a0": {
          "model_module": "@jupyter-widgets/controls",
          "model_name": "HBoxModel",
          "model_module_version": "1.5.0",
          "state": {
            "_dom_classes": [],
            "_model_module": "@jupyter-widgets/controls",
            "_model_module_version": "1.5.0",
            "_model_name": "HBoxModel",
            "_view_count": null,
            "_view_module": "@jupyter-widgets/controls",
            "_view_module_version": "1.5.0",
            "_view_name": "HBoxView",
            "box_style": "",
            "children": [
              "IPY_MODEL_28395243362142fd9b062b4926162d5b",
              "IPY_MODEL_9f48a9bbed89463b8f39c114c4fdb8a0",
              "IPY_MODEL_4320b904b5254ed39615d89af9b4c3ad"
            ],
            "layout": "IPY_MODEL_6bed45136daa454ea030e37e4c1fbf58"
          }
        },
        "28395243362142fd9b062b4926162d5b": {
          "model_module": "@jupyter-widgets/controls",
          "model_name": "HTMLModel",
          "model_module_version": "1.5.0",
          "state": {
            "_dom_classes": [],
            "_model_module": "@jupyter-widgets/controls",
            "_model_module_version": "1.5.0",
            "_model_name": "HTMLModel",
            "_view_count": null,
            "_view_module": "@jupyter-widgets/controls",
            "_view_module_version": "1.5.0",
            "_view_name": "HTMLView",
            "description": "",
            "description_tooltip": null,
            "layout": "IPY_MODEL_a4a94fabd8494ea593bd8f14db02c664",
            "placeholder": "​",
            "style": "IPY_MODEL_2afb46c5a32142b3b9c7d304d0c5b7e3",
            "value": ""
          }
        },
        "9f48a9bbed89463b8f39c114c4fdb8a0": {
          "model_module": "@jupyter-widgets/controls",
          "model_name": "FloatProgressModel",
          "model_module_version": "1.5.0",
          "state": {
            "_dom_classes": [],
            "_model_module": "@jupyter-widgets/controls",
            "_model_module_version": "1.5.0",
            "_model_name": "FloatProgressModel",
            "_view_count": null,
            "_view_module": "@jupyter-widgets/controls",
            "_view_module_version": "1.5.0",
            "_view_name": "ProgressView",
            "bar_style": "success",
            "description": "",
            "description_tooltip": null,
            "layout": "IPY_MODEL_7f68706aded2422c973dece0569fb43d",
            "max": 1,
            "min": 0,
            "orientation": "horizontal",
            "style": "IPY_MODEL_b46201547885448aafa1fe624e18e32d",
            "value": 1
          }
        },
        "4320b904b5254ed39615d89af9b4c3ad": {
          "model_module": "@jupyter-widgets/controls",
          "model_name": "HTMLModel",
          "model_module_version": "1.5.0",
          "state": {
            "_dom_classes": [],
            "_model_module": "@jupyter-widgets/controls",
            "_model_module_version": "1.5.0",
            "_model_name": "HTMLModel",
            "_view_count": null,
            "_view_module": "@jupyter-widgets/controls",
            "_view_module_version": "1.5.0",
            "_view_name": "HTMLView",
            "description": "",
            "description_tooltip": null,
            "layout": "IPY_MODEL_91af5ff85f994a8eb92d691f4f7c049c",
            "placeholder": "​",
            "style": "IPY_MODEL_d335819d85be4ac198e30a874eb0184e",
            "value": " 10000/? [05:41&lt;00:00, 30.55it/s]"
          }
        },
        "6bed45136daa454ea030e37e4c1fbf58": {
          "model_module": "@jupyter-widgets/base",
          "model_name": "LayoutModel",
          "model_module_version": "1.2.0",
          "state": {
            "_model_module": "@jupyter-widgets/base",
            "_model_module_version": "1.2.0",
            "_model_name": "LayoutModel",
            "_view_count": null,
            "_view_module": "@jupyter-widgets/base",
            "_view_module_version": "1.2.0",
            "_view_name": "LayoutView",
            "align_content": null,
            "align_items": null,
            "align_self": null,
            "border": null,
            "bottom": null,
            "display": null,
            "flex": null,
            "flex_flow": null,
            "grid_area": null,
            "grid_auto_columns": null,
            "grid_auto_flow": null,
            "grid_auto_rows": null,
            "grid_column": null,
            "grid_gap": null,
            "grid_row": null,
            "grid_template_areas": null,
            "grid_template_columns": null,
            "grid_template_rows": null,
            "height": null,
            "justify_content": null,
            "justify_items": null,
            "left": null,
            "margin": null,
            "max_height": null,
            "max_width": null,
            "min_height": null,
            "min_width": null,
            "object_fit": null,
            "object_position": null,
            "order": null,
            "overflow": null,
            "overflow_x": null,
            "overflow_y": null,
            "padding": null,
            "right": null,
            "top": null,
            "visibility": null,
            "width": null
          }
        },
        "a4a94fabd8494ea593bd8f14db02c664": {
          "model_module": "@jupyter-widgets/base",
          "model_name": "LayoutModel",
          "model_module_version": "1.2.0",
          "state": {
            "_model_module": "@jupyter-widgets/base",
            "_model_module_version": "1.2.0",
            "_model_name": "LayoutModel",
            "_view_count": null,
            "_view_module": "@jupyter-widgets/base",
            "_view_module_version": "1.2.0",
            "_view_name": "LayoutView",
            "align_content": null,
            "align_items": null,
            "align_self": null,
            "border": null,
            "bottom": null,
            "display": null,
            "flex": null,
            "flex_flow": null,
            "grid_area": null,
            "grid_auto_columns": null,
            "grid_auto_flow": null,
            "grid_auto_rows": null,
            "grid_column": null,
            "grid_gap": null,
            "grid_row": null,
            "grid_template_areas": null,
            "grid_template_columns": null,
            "grid_template_rows": null,
            "height": null,
            "justify_content": null,
            "justify_items": null,
            "left": null,
            "margin": null,
            "max_height": null,
            "max_width": null,
            "min_height": null,
            "min_width": null,
            "object_fit": null,
            "object_position": null,
            "order": null,
            "overflow": null,
            "overflow_x": null,
            "overflow_y": null,
            "padding": null,
            "right": null,
            "top": null,
            "visibility": null,
            "width": null
          }
        },
        "2afb46c5a32142b3b9c7d304d0c5b7e3": {
          "model_module": "@jupyter-widgets/controls",
          "model_name": "DescriptionStyleModel",
          "model_module_version": "1.5.0",
          "state": {
            "_model_module": "@jupyter-widgets/controls",
            "_model_module_version": "1.5.0",
            "_model_name": "DescriptionStyleModel",
            "_view_count": null,
            "_view_module": "@jupyter-widgets/base",
            "_view_module_version": "1.2.0",
            "_view_name": "StyleView",
            "description_width": ""
          }
        },
        "7f68706aded2422c973dece0569fb43d": {
          "model_module": "@jupyter-widgets/base",
          "model_name": "LayoutModel",
          "model_module_version": "1.2.0",
          "state": {
            "_model_module": "@jupyter-widgets/base",
            "_model_module_version": "1.2.0",
            "_model_name": "LayoutModel",
            "_view_count": null,
            "_view_module": "@jupyter-widgets/base",
            "_view_module_version": "1.2.0",
            "_view_name": "LayoutView",
            "align_content": null,
            "align_items": null,
            "align_self": null,
            "border": null,
            "bottom": null,
            "display": null,
            "flex": null,
            "flex_flow": null,
            "grid_area": null,
            "grid_auto_columns": null,
            "grid_auto_flow": null,
            "grid_auto_rows": null,
            "grid_column": null,
            "grid_gap": null,
            "grid_row": null,
            "grid_template_areas": null,
            "grid_template_columns": null,
            "grid_template_rows": null,
            "height": null,
            "justify_content": null,
            "justify_items": null,
            "left": null,
            "margin": null,
            "max_height": null,
            "max_width": null,
            "min_height": null,
            "min_width": null,
            "object_fit": null,
            "object_position": null,
            "order": null,
            "overflow": null,
            "overflow_x": null,
            "overflow_y": null,
            "padding": null,
            "right": null,
            "top": null,
            "visibility": null,
            "width": "20px"
          }
        },
        "b46201547885448aafa1fe624e18e32d": {
          "model_module": "@jupyter-widgets/controls",
          "model_name": "ProgressStyleModel",
          "model_module_version": "1.5.0",
          "state": {
            "_model_module": "@jupyter-widgets/controls",
            "_model_module_version": "1.5.0",
            "_model_name": "ProgressStyleModel",
            "_view_count": null,
            "_view_module": "@jupyter-widgets/base",
            "_view_module_version": "1.2.0",
            "_view_name": "StyleView",
            "bar_color": null,
            "description_width": ""
          }
        },
        "91af5ff85f994a8eb92d691f4f7c049c": {
          "model_module": "@jupyter-widgets/base",
          "model_name": "LayoutModel",
          "model_module_version": "1.2.0",
          "state": {
            "_model_module": "@jupyter-widgets/base",
            "_model_module_version": "1.2.0",
            "_model_name": "LayoutModel",
            "_view_count": null,
            "_view_module": "@jupyter-widgets/base",
            "_view_module_version": "1.2.0",
            "_view_name": "LayoutView",
            "align_content": null,
            "align_items": null,
            "align_self": null,
            "border": null,
            "bottom": null,
            "display": null,
            "flex": null,
            "flex_flow": null,
            "grid_area": null,
            "grid_auto_columns": null,
            "grid_auto_flow": null,
            "grid_auto_rows": null,
            "grid_column": null,
            "grid_gap": null,
            "grid_row": null,
            "grid_template_areas": null,
            "grid_template_columns": null,
            "grid_template_rows": null,
            "height": null,
            "justify_content": null,
            "justify_items": null,
            "left": null,
            "margin": null,
            "max_height": null,
            "max_width": null,
            "min_height": null,
            "min_width": null,
            "object_fit": null,
            "object_position": null,
            "order": null,
            "overflow": null,
            "overflow_x": null,
            "overflow_y": null,
            "padding": null,
            "right": null,
            "top": null,
            "visibility": null,
            "width": null
          }
        },
        "d335819d85be4ac198e30a874eb0184e": {
          "model_module": "@jupyter-widgets/controls",
          "model_name": "DescriptionStyleModel",
          "model_module_version": "1.5.0",
          "state": {
            "_model_module": "@jupyter-widgets/controls",
            "_model_module_version": "1.5.0",
            "_model_name": "DescriptionStyleModel",
            "_view_count": null,
            "_view_module": "@jupyter-widgets/base",
            "_view_module_version": "1.2.0",
            "_view_name": "StyleView",
            "description_width": ""
          }
        }
      }
    }
  },
  "nbformat": 4,
  "nbformat_minor": 0
}